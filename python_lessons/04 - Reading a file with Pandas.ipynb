{
 "cells": [
  {
   "cell_type": "markdown",
   "metadata": {},
   "source": [
    "Reading a file with Pandas\n",
    "==\n",
    "---"
   ]
  },
  {
   "cell_type": "markdown",
   "metadata": {},
   "source": [
    "Pandas is a library widely used for statistics and analysis\n",
    "* Has functions which allow you to read a file directly into your script\n",
    "* Borrows many feature from R's data frames"
   ]
  },
  {
   "cell_type": "markdown",
   "metadata": {},
   "source": [
    "*   Read a Comma Separate Values (CSV) data file with `pandas.read_csv`.\n",
    "    * Uses the same notation as you used for bash (\"./\" accesses the current folder, \"../\" searches up to the parent folder)\n",
    "    * Argument is the name of the file to be read.\n",
    "    * Assign result to a variable to store the data that was read."
   ]
  },
  {
   "cell_type": "code",
   "execution_count": 17,
   "metadata": {
    "collapsed": false
   },
   "outputs": [
    {
     "name": "stdout",
     "output_type": "stream",
     "text": [
      "               country  gdpPercap_1952  gdpPercap_1957  gdpPercap_1962  \\\n",
      "0          Afghanistan      779.445314      820.853030      853.100710   \n",
      "1              Bahrain     9867.084765    11635.799450    12753.275140   \n",
      "2           Bangladesh      684.244172      661.637458      686.341554   \n",
      "3             Cambodia      368.469286      434.038336      496.913648   \n",
      "4                China      400.448611      575.987001      487.674018   \n",
      "5      Hong Kong China     3054.421209     3629.076457     4692.648272   \n",
      "6                India      546.565749      590.061996      658.347151   \n",
      "7            Indonesia      749.681655      858.900271      849.289770   \n",
      "8                 Iran     3035.326002     3290.257643     4187.329802   \n",
      "9                 Iraq     4129.766056     6229.333562     8341.737815   \n",
      "10              Israel     4086.522128     5385.278451     7105.630706   \n",
      "11               Japan     3216.956347     4317.694365     6576.649461   \n",
      "12              Jordan     1546.907807     1886.080591     2348.009158   \n",
      "13     Korea Dem. Rep.     1088.277758     1571.134655     1621.693598   \n",
      "14          Korea Rep.     1030.592226     1487.593537     1536.344387   \n",
      "15              Kuwait   108382.352900   113523.132900    95458.111760   \n",
      "16             Lebanon     4834.804067     6089.786934     5714.560611   \n",
      "17            Malaysia     1831.132894     1810.066992     2036.884944   \n",
      "18            Mongolia      786.566857      912.662609     1056.353958   \n",
      "19             Myanmar      331.000000      350.000000      388.000000   \n",
      "20               Nepal      545.865723      597.936356      652.396859   \n",
      "21                Oman     1828.230307     2242.746551     2924.638113   \n",
      "22            Pakistan      684.597144      747.083529      803.342742   \n",
      "23         Philippines     1272.880995     1547.944844     1649.552153   \n",
      "24        Saudi Arabia     6459.554823     8157.591248    11626.419750   \n",
      "25           Singapore     2315.138227     2843.104409     3674.735572   \n",
      "26           Sri Lanka     1083.532030     1072.546602     1074.471960   \n",
      "27               Syria     1643.485354     2117.234893     2193.037133   \n",
      "28              Taiwan     1206.947913     1507.861290     1822.879028   \n",
      "29            Thailand      757.797418      793.577415     1002.199172   \n",
      "30             Vietnam      605.066492      676.285448      772.049160   \n",
      "31  West Bank and Gaza     1515.592329     1827.067742     2198.956312   \n",
      "32          Yemen Rep.      781.717576      804.830455      825.623201   \n",
      "\n",
      "    gdpPercap_1967  gdpPercap_1972  gdpPercap_1977  gdpPercap_1982  \\\n",
      "0       836.197138      739.981106      786.113360      978.011439   \n",
      "1     14804.672700    18268.658390    19340.101960    19211.147310   \n",
      "2       721.186086      630.233627      659.877232      676.981866   \n",
      "3       523.432314      421.624026      524.972183      624.475478   \n",
      "4       612.705693      676.900092      741.237470      962.421380   \n",
      "5      6197.962814     8315.928145    11186.141250    14560.530510   \n",
      "6       700.770611      724.032527      813.337323      855.723538   \n",
      "7       762.431772     1111.107907     1382.702056     1516.872988   \n",
      "8      5906.731805     9613.818607    11888.595080     7608.334602   \n",
      "9      8931.459811     9576.037596    14688.235070    14517.907110   \n",
      "10     8393.741404    12786.932230    13306.619210    15367.029200   \n",
      "11     9847.788607    14778.786360    16610.377010    19384.105710   \n",
      "12     2741.796252     2110.856309     2852.351568     4161.415959   \n",
      "13     2143.540609     3701.621503     4106.301249     4106.525293   \n",
      "14     2029.228142     3030.876650     4657.221020     5622.942464   \n",
      "15    80894.883260   109347.867000    59265.477140    31354.035730   \n",
      "16     6006.983042     7486.384341     8659.696836     7640.519521   \n",
      "17     2277.742396     2849.094780     3827.921571     4920.355951   \n",
      "18     1226.041130     1421.741975     1647.511665     2000.603139   \n",
      "19      349.000000      357.000000      371.000000      424.000000   \n",
      "20      676.442225      674.788130      694.112440      718.373095   \n",
      "21     4720.942687    10618.038550    11848.343920    12954.791010   \n",
      "22      942.408259     1049.938981     1175.921193     1443.429832   \n",
      "23     1814.127430     1989.374070     2373.204287     2603.273765   \n",
      "24    16903.048860    24837.428650    34167.762600    33693.175250   \n",
      "25     4977.418540     8597.756202    11210.089480    15169.161120   \n",
      "26     1135.514326     1213.395530     1348.775651     1648.079789   \n",
      "27     1881.923632     2571.423014     3195.484582     3761.837715   \n",
      "28     2643.858681     4062.523897     5596.519826     7426.354774   \n",
      "29     1295.460660     1524.358936     1961.224635     2393.219781   \n",
      "30      637.123289      699.501644      713.537120      707.235786   \n",
      "31     2649.715007     3133.409277     3682.831494     4336.032082   \n",
      "32      862.442146     1265.047031     1829.765177     1977.557010   \n",
      "\n",
      "    gdpPercap_1987  gdpPercap_1992  gdpPercap_1997  gdpPercap_2002  \\\n",
      "0       852.395945      649.341395      635.341351      726.734055   \n",
      "1     18524.024060    19035.579170    20292.016790    23403.559270   \n",
      "2       751.979403      837.810164      972.770035     1136.390430   \n",
      "3       683.895573      682.303175      734.285170      896.226015   \n",
      "4      1378.904018     1655.784158     2289.234136     3119.280896   \n",
      "5     20038.472690    24757.603010    28377.632190    30209.015160   \n",
      "6       976.512676     1164.406809     1458.817442     1746.769454   \n",
      "7      1748.356961     2383.140898     3119.335603     2873.912870   \n",
      "8      6642.881371     7235.653188     8263.590301     9240.761975   \n",
      "9     11643.572680     3745.640687     3076.239795     4390.717312   \n",
      "10    17122.479860    18051.522540    20896.609240    21905.595140   \n",
      "11    22375.941890    26824.895110    28816.584990    28604.591900   \n",
      "12     4448.679912     3431.593647     3645.379572     3844.917194   \n",
      "13     4106.492315     3726.063507     1690.756814     1646.758151   \n",
      "14     8533.088805    12104.278720    15993.527960    19233.988180   \n",
      "15    28118.429980    34932.919590    40300.619960    35110.105660   \n",
      "16     5377.091329     6890.806854     8754.963850     9313.938830   \n",
      "17     5249.802653     7277.912802    10132.909640    10206.977940   \n",
      "18     2338.008304     1785.402016     1902.252100     2140.739323   \n",
      "19      385.000000      347.000000      415.000000      611.000000   \n",
      "20      775.632450      897.740360     1010.892138     1057.206311   \n",
      "21    18115.223130    18616.706910    19702.055810    19774.836870   \n",
      "22     1704.686583     1971.829464     2049.350521     2092.712441   \n",
      "23     2189.634995     2279.324017     2536.534925     2650.921068   \n",
      "24    21198.261360    24841.617770    20586.690190    19014.541180   \n",
      "25    18861.530810    24769.891200    33519.476600    36023.105400   \n",
      "26     1876.766827     2153.739222     2664.477257     3015.378833   \n",
      "27     3116.774285     3340.542768     4014.238972     4090.925331   \n",
      "28    11054.561750    15215.657900    20206.820980    23235.423290   \n",
      "29     2982.653773     4616.896545     5852.625497     5913.187529   \n",
      "30      820.799445      989.023149     1385.896769     1764.456677   \n",
      "31     5107.197384     6017.654756     7110.667619     4515.487575   \n",
      "32     1971.741538     1879.496673     2117.484526     2234.820827   \n",
      "\n",
      "    gdpPercap_2007  \n",
      "0       974.580338  \n",
      "1     29796.048340  \n",
      "2      1391.253792  \n",
      "3      1713.778686  \n",
      "4      4959.114854  \n",
      "5     39724.978670  \n",
      "6      2452.210407  \n",
      "7      3540.651564  \n",
      "8     11605.714490  \n",
      "9      4471.061906  \n",
      "10    25523.277100  \n",
      "11    31656.068060  \n",
      "12     4519.461171  \n",
      "13     1593.065480  \n",
      "14    23348.139730  \n",
      "15    47306.989780  \n",
      "16    10461.058680  \n",
      "17    12451.655800  \n",
      "18     3095.772271  \n",
      "19      944.000000  \n",
      "20     1091.359778  \n",
      "21    22316.192870  \n",
      "22     2605.947580  \n",
      "23     3190.481016  \n",
      "24    21654.831940  \n",
      "25    47143.179640  \n",
      "26     3970.095407  \n",
      "27     4184.548089  \n",
      "28    28718.276840  \n",
      "29     7458.396327  \n",
      "30     2441.576404  \n",
      "31     3025.349798  \n",
      "32     2280.769906  \n"
     ]
    }
   ],
   "source": [
    "import pandas\n",
    "\n",
    "df = pandas.read_csv('../data/gapminder_gdp_asia.csv')\n",
    "print(df)"
   ]
  },
  {
   "cell_type": "markdown",
   "metadata": {},
   "source": [
    "*   The columns in a data frame are the observed variables, and the rows are the observations.\n",
    "*   Pandas uses backslash `\\` to show wrapped lines when output is too wide to fit the screen.\n",
    "\n",
    "> ## File Not Found\n",
    ">\n",
    "> Our lessons store their data files in a `data` sub-directory,\n",
    "> which is why the path to the file is `data/gapminder_gdp_oceania.csv`.\n",
    "> If you forget to include `data/`,\n",
    "> or if you include it but your copy of the file is somewhere else,\n",
    "> you will get a [runtime error]({{ site.github.url }}/05-error-messages/)\n",
    "> that ends with a line like this:\n",
    ">\n",
    "> ~~~\n",
    "> OSError: File b'gapminder_gdp_oceania.csv' does not exist\n",
    "> ~~~"
   ]
  },
  {
   "cell_type": "markdown",
   "metadata": {},
   "source": [
    "---\n",
    "## EXERCISE:\n",
    "\n",
    "Hypothetically, the data a project you are working on is stored in a file called `microbes.csv`, which is located in a folder called `field_data`. You are doing analysis in a notebook called `analysis.ipynb`in a sibling folder called `thesis`. You're directory structure looks like this:\n",
    "    ~~~\n",
    "    your_home_directory\n",
    "    +-- field_data/\n",
    "    |   +-- microbes.csv\n",
    "    +-- thesis/\n",
    "        +-- analysis.ipynb\n",
    "    ~~~\n",
    "\n",
    "1. What value(s) should you pass to `read_csv` to read `microbes.csv` in `analysis.ipynb`?"
   ]
  },
  {
   "cell_type": "markdown",
   "metadata": {},
   "source": [
    "## Use `DataFrame.info` to find out more about a data frame."
   ]
  },
  {
   "cell_type": "code",
   "execution_count": 4,
   "metadata": {
    "collapsed": false
   },
   "outputs": [
    {
     "name": "stdout",
     "output_type": "stream",
     "text": [
      "<class 'pandas.core.frame.DataFrame'>\n",
      "RangeIndex: 2 entries, 0 to 1\n",
      "Data columns (total 13 columns):\n",
      "country           2 non-null object\n",
      "gdpPercap_1952    2 non-null float64\n",
      "gdpPercap_1957    2 non-null float64\n",
      "gdpPercap_1962    2 non-null float64\n",
      "gdpPercap_1967    2 non-null float64\n",
      "gdpPercap_1972    2 non-null float64\n",
      "gdpPercap_1977    2 non-null float64\n",
      "gdpPercap_1982    2 non-null float64\n",
      "gdpPercap_1987    2 non-null float64\n",
      "gdpPercap_1992    2 non-null float64\n",
      "gdpPercap_1997    2 non-null float64\n",
      "gdpPercap_2002    2 non-null float64\n",
      "gdpPercap_2007    2 non-null float64\n",
      "dtypes: float64(12), object(1)\n",
      "memory usage: 288.0+ bytes\n"
     ]
    }
   ],
   "source": [
    "df.info()"
   ]
  },
  {
   "cell_type": "markdown",
   "metadata": {},
   "source": [
    "## Use `DataFrame.describe` to get summary statistics about data.\n",
    "\n",
    "DataFrame.describe() gets the summary statistics of only the columns that have numerical data. \n",
    "All other columns are ignored."
   ]
  },
  {
   "cell_type": "code",
   "execution_count": 7,
   "metadata": {
    "collapsed": false
   },
   "outputs": [
    {
     "name": "stdout",
     "output_type": "stream",
     "text": [
      "       gdpPercap_1952  gdpPercap_1957  gdpPercap_1962  gdpPercap_1967  \\\n",
      "count        2.000000        2.000000        2.000000        2.000000   \n",
      "mean     10298.085650    11598.522455    12696.452430    14495.021790   \n",
      "std        365.560078      917.644806      677.727301       43.986086   \n",
      "min      10039.595640    10949.649590    12217.226860    14463.918930   \n",
      "25%      10168.840645    11274.086022    12456.839645    14479.470360   \n",
      "50%      10298.085650    11598.522455    12696.452430    14495.021790   \n",
      "75%      10427.330655    11922.958888    12936.065215    14510.573220   \n",
      "max      10556.575660    12247.395320    13175.678000    14526.124650   \n",
      "\n",
      "       gdpPercap_1972  gdpPercap_1977  gdpPercap_1982  gdpPercap_1987  \\\n",
      "count         2.00000        2.000000        2.000000        2.000000   \n",
      "mean      16417.33338    17283.957605    18554.709840    20448.040160   \n",
      "std         525.09198     1485.263517     1304.328377     2037.668013   \n",
      "min       16046.03728    16233.717700    17632.410400    19007.191290   \n",
      "25%       16231.68533    16758.837652    18093.560120    19727.615725   \n",
      "50%       16417.33338    17283.957605    18554.709840    20448.040160   \n",
      "75%       16602.98143    17809.077557    19015.859560    21168.464595   \n",
      "max       16788.62948    18334.197510    19477.009280    21888.889030   \n",
      "\n",
      "       gdpPercap_1992  gdpPercap_1997  gdpPercap_2002  gdpPercap_2007  \n",
      "count        2.000000        2.000000        2.000000        2.000000  \n",
      "mean     20894.045885    24024.175170    26938.778040    29810.188275  \n",
      "std       3578.979883     4205.533703     5301.853680     6540.991104  \n",
      "min      18363.324940    21050.413770    23189.801350    25185.009110  \n",
      "25%      19628.685413    22537.294470    25064.289695    27497.598692  \n",
      "50%      20894.045885    24024.175170    26938.778040    29810.188275  \n",
      "75%      22159.406358    25511.055870    28813.266385    32122.777857  \n",
      "max      23424.766830    26997.936570    30687.754730    34435.367440  \n"
     ]
    }
   ],
   "source": [
    "print(df.describe())"
   ]
  },
  {
   "cell_type": "markdown",
   "metadata": {},
   "source": [
    "---\n",
    "## EXERCISE:\n",
    "1. Read the data in `gapminder_gdp_americas.csv` (which should be in the same directory as `gapminder_gdp_oceania.csv`) into a variable called `americas` and display its summary statistics.\n",
    "\n",
    "---"
   ]
  },
  {
   "cell_type": "markdown",
   "metadata": {},
   "source": [
    "## The `DataFrame.columns` variable stores information about the data frame's columns.\n",
    "\n",
    "*   Note that this is data, *not* a method.\n",
    "    *   Like `math.pi`.\n",
    "    *   So do not use `()` to try to call it.\n",
    "*   Called a *member variable*, or just *member*."
   ]
  },
  {
   "cell_type": "code",
   "execution_count": 9,
   "metadata": {
    "collapsed": false
   },
   "outputs": [
    {
     "name": "stdout",
     "output_type": "stream",
     "text": [
      "Index(['country', 'gdpPercap_1952', 'gdpPercap_1957', 'gdpPercap_1962',\n",
      "       'gdpPercap_1967', 'gdpPercap_1972', 'gdpPercap_1977', 'gdpPercap_1982',\n",
      "       'gdpPercap_1987', 'gdpPercap_1992', 'gdpPercap_1997', 'gdpPercap_2002',\n",
      "       'gdpPercap_2007'],\n",
      "      dtype='object')\n"
     ]
    }
   ],
   "source": [
    "print(df.columns)"
   ]
  },
  {
   "cell_type": "markdown",
   "metadata": {},
   "source": [
    "## Use `index_col` to specify that a column's values should be used as row headings.\n",
    "\n",
    "*   Row headings are numbers (0 and 1 in this case).\n",
    "*   Really want to index by country.\n",
    "*   Pass the name of the column to `read_csv` as its `index_col` parameter to do this."
   ]
  },
  {
   "cell_type": "code",
   "execution_count": 18,
   "metadata": {
    "collapsed": false
   },
   "outputs": [
    {
     "name": "stdout",
     "output_type": "stream",
     "text": [
      "             gdpPercap_1952  gdpPercap_1957  gdpPercap_1962  gdpPercap_1967  \\\n",
      "country                                                                       \n",
      "Australia       10039.59564     10949.64959     12217.22686     14526.12465   \n",
      "New Zealand     10556.57566     12247.39532     13175.67800     14463.91893   \n",
      "\n",
      "             gdpPercap_1972  gdpPercap_1977  gdpPercap_1982  gdpPercap_1987  \\\n",
      "country                                                                       \n",
      "Australia       16788.62948     18334.19751     19477.00928     21888.88903   \n",
      "New Zealand     16046.03728     16233.71770     17632.41040     19007.19129   \n",
      "\n",
      "             gdpPercap_1992  gdpPercap_1997  gdpPercap_2002  gdpPercap_2007  \n",
      "country                                                                      \n",
      "Australia       23424.76683     26997.93657     30687.75473     34435.36744  \n",
      "New Zealand     18363.32494     21050.41377     23189.80135     25185.00911  \n"
     ]
    }
   ],
   "source": [
    "df = pandas.read_csv('../data/gapminder_gdp_oceania.csv', index_col='country')\n",
    "print(df)"
   ]
  },
  {
   "cell_type": "markdown",
   "metadata": {},
   "source": [
    "*   This is a `DataFrame`\n",
    "*   Two rows named `'Australia'` and `'New Zealand'`\n",
    "*   Twelve columns, each of which has two actual 64-bit floating point values.\n",
    "    *   We will talk later about null values, which are used to represent missing observations.\n",
    "*   Uses 208 bytes of memory."
   ]
  },
  {
   "cell_type": "markdown",
   "metadata": {},
   "source": [
    "*   Not particularly useful with just two records,\n",
    "    but very helpful when there are thousands."
   ]
  },
  {
   "cell_type": "markdown",
   "metadata": {},
   "source": [
    "## Writing to csv file \n",
    "As well as the `read_csv` function for reading data from a file, Pandas can write a csv file with a `to_csv` function.\n",
    "    \n",
    "    \n",
    "    df_copy = df\n",
    "\n",
    "    df_copy.to_csv(\"../data/gapminder_gdp_oceania_copy.csv'\n",
    "    "
   ]
  },
  {
   "cell_type": "markdown",
   "metadata": {},
   "source": [
    "---\n",
    "## EXERCISE:\n",
    "1. Read in a new data frame for gapminder_gdp_africa.csv\n",
    "2. Write out a copy of the data frame to a new file called gapminder_gdp_africa.csv.bak\n",
    "\n",
    "---"
   ]
  },
  {
   "cell_type": "markdown",
   "metadata": {},
   "source": [
    "# -- COMMIT YOUR WORK TO GITHUB --"
   ]
  },
  {
   "cell_type": "markdown",
   "metadata": {},
   "source": [
    "---\n",
    "## Keypoints:\n",
    " * Use the Pandas library to do statistics on tabular data.\n",
    " * Use `index_col` to specify that a column's values should be used as row headings.\n",
    " * Use `DataFrame.info` to find out more about a data frame.\n",
    " * The `DataFrame.columns` variable stores information about the data frame's columns.\n",
    " * Use `DataFrame.T` to transpose a data frame.\n",
    " * Use `DataFrame.describe` to get summary statistics about data."
   ]
  }
 ],
 "metadata": {
  "anaconda-cloud": {},
  "kernelspec": {
   "display_name": "Python [default]",
   "language": "python",
   "name": "python3"
  },
  "language_info": {
   "codemirror_mode": {
    "name": "ipython",
    "version": 3
   },
   "file_extension": ".py",
   "mimetype": "text/x-python",
   "name": "python",
   "nbconvert_exporter": "python",
   "pygments_lexer": "ipython3",
   "version": "3.5.2"
  }
 },
 "nbformat": 4,
 "nbformat_minor": 2
}
