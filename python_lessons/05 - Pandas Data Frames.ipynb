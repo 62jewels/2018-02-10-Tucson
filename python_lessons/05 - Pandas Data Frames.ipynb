{
 "cells": [
  {
   "cell_type": "markdown",
   "metadata": {},
   "source": [
    "Pandas Data Frames\n",
    "=========="
   ]
  },
  {
   "cell_type": "markdown",
   "metadata": {},
   "source": [
    "The DataFrame is the way Pandas represents a table, and Series is the data-structure Pandas use to represent a column. So, a data frame and series are synonomous with table and column.\n",
    "\n",
    "What makes Pandas so attractive is the powerful interface to access individual records of the table, proper handling of missing values, and relational-databases operations between DataFrames."
   ]
  },
  {
   "cell_type": "code",
   "execution_count": null,
   "metadata": {
    "collapsed": true
   },
   "outputs": [],
   "source": [
    "# LOAD IN A DATA FRAME\n",
    "from matplotlib import pyplot as plt\n",
    "import pandas as pd\n",
    "df = pd.read_csv('../data/gapminder_gdp_europe.csv', index_col='country')"
   ]
  },
  {
   "cell_type": "markdown",
   "metadata": {},
   "source": [
    "## Inspecting Data\n",
    "\n",
    "\n",
    "* We can print the first or last x number of rows of our data frame using the head() and tails() functions."
   ]
  },
  {
   "cell_type": "code",
   "execution_count": null,
   "metadata": {},
   "outputs": [],
   "source": [
    "print(df.head(3))"
   ]
  },
  {
   "cell_type": "code",
   "execution_count": null,
   "metadata": {},
   "outputs": [],
   "source": [
    "print(df.tail(3))"
   ]
  },
  {
   "cell_type": "markdown",
   "metadata": {},
   "source": [
    "* We can use `dftypes` and `info()` to also get information about the data"
   ]
  },
  {
   "cell_type": "code",
   "execution_count": null,
   "metadata": {},
   "outputs": [],
   "source": [
    "print(df.dtypes)"
   ]
  },
  {
   "cell_type": "code",
   "execution_count": null,
   "metadata": {},
   "outputs": [],
   "source": [
    "print(df.info())"
   ]
  },
  {
   "cell_type": "markdown",
   "metadata": {},
   "source": [
    "* Use `describe()` to get basic statistical info about the data"
   ]
  },
  {
   "cell_type": "code",
   "execution_count": null,
   "metadata": {},
   "outputs": [],
   "source": [
    "print(df.describe())"
   ]
  },
  {
   "cell_type": "markdown",
   "metadata": {},
   "source": [
    "* Can also use describe() on data frame selections (like a single column)"
   ]
  },
  {
   "cell_type": "code",
   "execution_count": null,
   "metadata": {},
   "outputs": [],
   "source": [
    "print( df[\"gdpPercap_1982\"].describe() )"
   ]
  },
  {
   "cell_type": "markdown",
   "metadata": {},
   "source": [
    "* Use `shape` to get the row and column numbers"
   ]
  },
  {
   "cell_type": "code",
   "execution_count": null,
   "metadata": {},
   "outputs": [],
   "source": [
    "print(df.shape)"
   ]
  },
  {
   "cell_type": "markdown",
   "metadata": {},
   "source": [
    "Here we can see the that the data have 30 rows of data and 12 attributes worth of information.\n",
    "\n",
    "* Use the `len()` function to get numbers of each individually"
   ]
  },
  {
   "cell_type": "code",
   "execution_count": null,
   "metadata": {},
   "outputs": [],
   "source": [
    "# print number of rows of data\n",
    "print(len(df))"
   ]
  },
  {
   "cell_type": "code",
   "execution_count": null,
   "metadata": {},
   "outputs": [],
   "source": [
    "# print number of columns of data\n",
    "print(len(df.columns))"
   ]
  },
  {
   "cell_type": "markdown",
   "metadata": {},
   "source": [
    "* Get the column names with `columns()`"
   ]
  },
  {
   "cell_type": "code",
   "execution_count": null,
   "metadata": {},
   "outputs": [],
   "source": [
    "print(df.columns)"
   ]
  },
  {
   "cell_type": "markdown",
   "metadata": {},
   "source": [
    "* Use a column name to get all values for that columns"
   ]
  },
  {
   "cell_type": "markdown",
   "metadata": {},
   "source": [
    "---\n",
    "## Get information about a particular column\n",
    "\n",
    "* Operations like mean, max, min, can be used on individual columns"
   ]
  },
  {
   "cell_type": "code",
   "execution_count": null,
   "metadata": {},
   "outputs": [],
   "source": [
    "# Mean GDP in 1967\n",
    "print(df[\"gdpPercap_1967\"].mean())\n",
    "# Mean GDP in 1972\n",
    "print(df[\"gdpPercap_1972\"].mean())\n",
    "# Mean GDP in 1977\n",
    "print(df[\"gdpPercap_1977\"].mean())\n"
   ]
  },
  {
   "cell_type": "markdown",
   "metadata": {},
   "source": [
    "## Rearange Columns\n",
    "\n",
    "* Difficult to do using a csv library and doing this by hand\n",
    "* The reverse() function will reverse the ordering of a list\n",
    "     * E.g.   `['a', 'b', 'c']` to `['c', 'b', 'a']`"
   ]
  },
  {
   "cell_type": "code",
   "execution_count": null,
   "metadata": {},
   "outputs": [],
   "source": [
    "cols = list(df.columns)\n",
    "print( cols )\n",
    "\n",
    "cols.reverse()\n",
    "print ( cols )"
   ]
  },
  {
   "cell_type": "markdown",
   "metadata": {},
   "source": [
    "* Using that now reversed list above, we can create a new list, with the values order in reverse"
   ]
  },
  {
   "cell_type": "code",
   "execution_count": null,
   "metadata": {},
   "outputs": [],
   "source": [
    "new_df = df[cols]\n",
    "new_df.head(3)"
   ]
  },
  {
   "cell_type": "markdown",
   "metadata": {},
   "source": [
    "## Selecting values\n",
    "\n",
    "Remember that a DataFrame provides a index as a way to identify the rows of the table. A row also has a position inside the table as well as a label, which uniquely identifies its entry in the DataFrame.\n",
    "\n",
    "To access a value at the position [ i , j ] (row, column) of a DataFrame, we have two options, depending on what is the meaning of i in use.\n",
    "\n"
   ]
  },
  {
   "cell_type": "markdown",
   "metadata": {},
   "source": [
    "We can see that the first value in the first column is `1601.056136`. Remember that in programming, we begin our counting at zero, so this index would be `0,0`, not `1,1`."
   ]
  },
  {
   "cell_type": "markdown",
   "metadata": {},
   "source": [
    "### Use DataFrame.iloc[..., ...] to select values by their position\n",
    "* Allows you to specify location by numerical index similar to 2D version of character selection in strings.\n"
   ]
  },
  {
   "cell_type": "code",
   "execution_count": null,
   "metadata": {},
   "outputs": [],
   "source": [
    "print(\"\\nData value in first row at first column: \", df.iloc[0, 0])"
   ]
  },
  {
   "cell_type": "code",
   "execution_count": null,
   "metadata": {},
   "outputs": [],
   "source": [
    "print(\"\\nData value in fifth row at third column: \", df.iloc[4, 2])"
   ]
  },
  {
   "cell_type": "markdown",
   "metadata": {},
   "source": [
    "### Use `DataFrame.loc[..., ...]` to select values by their (entry) label.\n",
    "\n",
    "*   Can specify location by name or by numerical index."
   ]
  },
  {
   "cell_type": "code",
   "execution_count": null,
   "metadata": {},
   "outputs": [],
   "source": [
    "print(df.loc[\"Albania\", \"gdpPercap_1952\"])"
   ]
  },
  {
   "cell_type": "code",
   "execution_count": null,
   "metadata": {},
   "outputs": [],
   "source": [
    "print(df.loc['Bulgaria', \"gdpPercap_1962\"])"
   ]
  },
  {
   "cell_type": "markdown",
   "metadata": {},
   "source": [
    "### Use `:` on its own to mean all columns or all rows.\n",
    "\n",
    "*   Just like Python's usual slicing notation, we can print all columns or all rows with `.loc` using the `:`"
   ]
  },
  {
   "cell_type": "code",
   "execution_count": null,
   "metadata": {},
   "outputs": [],
   "source": [
    "print(df.loc[\"Albania\",:])"
   ]
  },
  {
   "cell_type": "markdown",
   "metadata": {},
   "source": [
    "* Would get the same result printing `df.iloc[0]` (without a second index).\n",
    "* We can also omit the `:` and get the same result in either case.\n",
    "    * e.g. `df.loc[\"Albania\"]`"
   ]
  },
  {
   "cell_type": "code",
   "execution_count": null,
   "metadata": {},
   "outputs": [],
   "source": [
    "print(df.loc[:, \"gdpPercap_1952\"])"
   ]
  },
  {
   "cell_type": "markdown",
   "metadata": {},
   "source": [
    "*   Would get the same result printing `df[\"gdpPercap_1952\"]`\n",
    "*   Also get the same result printing `df.gdpPercap_1952` (since it's a column name)"
   ]
  },
  {
   "cell_type": "markdown",
   "metadata": {},
   "source": [
    "### Select multiple columns or rows using `DataFrame.iloc` and a named slice."
   ]
  },
  {
   "cell_type": "code",
   "execution_count": null,
   "metadata": {},
   "outputs": [],
   "source": [
    "print(df.loc['Italy':'Poland', 'gdpPercap_1962':'gdpPercap_1972'])"
   ]
  },
  {
   "cell_type": "markdown",
   "metadata": {},
   "source": [
    "In the above code, we discover that **slicing using indexes is inclusive at both ends**, which differs from typical python behavior where slicing indicates everything up to but not including the final index.\n",
    "\n",
    "However, if we use integers when our DataFrame is indexed by something else, slicing follows typical pythonic behavior."
   ]
  },
  {
   "cell_type": "markdown",
   "metadata": {},
   "source": [
    "## Result of slicing can be used in further operations."
   ]
  },
  {
   "cell_type": "code",
   "execution_count": null,
   "metadata": {},
   "outputs": [],
   "source": [
    "print(df.loc['Italy':'Poland', 'gdpPercap_1962':'gdpPercap_1972'].max())"
   ]
  },
  {
   "cell_type": "code",
   "execution_count": null,
   "metadata": {},
   "outputs": [],
   "source": [
    "print(df.loc['Italy':'Poland', 'gdpPercap_1962':'gdpPercap_1972'].min())"
   ]
  },
  {
   "cell_type": "markdown",
   "metadata": {},
   "source": [
    "*   Usually don't just print a slice.\n",
    "*   All the statistical operators that work on entire data frames work the same way on slices."
   ]
  },
  {
   "cell_type": "markdown",
   "metadata": {},
   "source": [
    "## Create data frame from selections\n",
    "\n",
    "We can create new data frame by selecting data frames based on values"
   ]
  },
  {
   "cell_type": "code",
   "execution_count": null,
   "metadata": {},
   "outputs": [],
   "source": [
    "# Use a subset of data to keep output readable.\n",
    "subsetdf = df.loc['Italy':'Poland', 'gdpPercap_1962':'gdpPercap_1972']\n",
    "print('Subset of data:\\n', subset)"
   ]
  },
  {
   "cell_type": "markdown",
   "metadata": {},
   "source": [
    "### Create DataFrame using query\n",
    "\n",
    "* By passing a dataframe query to a itself, we can create a new dataframe with only those values"
   ]
  },
  {
   "cell_type": "code",
   "execution_count": null,
   "metadata": {},
   "outputs": [],
   "source": [
    "subset10kdf = subsetdf[subsetdf[\"gdpPercap_1962\"] >= 10000]\n",
    "# this is the same as subset[subset >= 10000]\n",
    "#print(\"Type: \", type(subset10kdf))\n",
    "print(subset10kdf)"
   ]
  },
  {
   "cell_type": "markdown",
   "metadata": {},
   "source": [
    "*   Get the value where the mask is true, and NaN (Not a Number) where it is false.\n",
    "*   Useful because NaNs are ignored by operations like max, min, average, etc."
   ]
  },
  {
   "cell_type": "markdown",
   "metadata": {},
   "source": [
    "## Filter a DataFrame using a Boolean mask\n",
    "\n",
    "* A frame full of Booleans is sometimes called a *mask* because of how it can be used\n",
    "* Comparison is applied element by element\n",
    "* Returns a similarly-shaped data frame of `True` and `False`"
   ]
  },
  {
   "cell_type": "code",
   "execution_count": null,
   "metadata": {
    "scrolled": true
   },
   "outputs": [],
   "source": [
    "mask10k = subsetdf >= 10000\n",
    "print( mask10k )"
   ]
  },
  {
   "cell_type": "markdown",
   "metadata": {},
   "source": [
    "* We can use masks to filter an entire dataframe with a single query\n",
    "    * More efficient than using a single query on multiple columns"
   ]
  },
  {
   "cell_type": "code",
   "execution_count": null,
   "metadata": {},
   "outputs": [],
   "source": [
    "subset = subsetdf[mask10k]\n",
    "print(subset)"
   ]
  },
  {
   "cell_type": "markdown",
   "metadata": {},
   "source": [
    "## Quiz\n",
    "\n",
    "* Create three data frames and get the size of each one.\n",
    "    1. Countries with a gdp per capita above 10000 in 1952\n",
    "    1. Countries with a gdp per capita above 10000 in 1962\n",
    "    1. Countries with a gdp per capita above 10000 in 1972\n",
    "\n"
   ]
  },
  {
   "cell_type": "code",
   "execution_count": null,
   "metadata": {},
   "outputs": [],
   "source": [
    "df_1 = df[df[\"gdpPercap_1952\"] > 10000]\n",
    "df_1.shape"
   ]
  },
  {
   "cell_type": "code",
   "execution_count": null,
   "metadata": {},
   "outputs": [],
   "source": [
    "df_1 = df[df[\"gdpPercap_1962\"] > 10000]\n",
    "df_1.shape"
   ]
  },
  {
   "cell_type": "code",
   "execution_count": null,
   "metadata": {},
   "outputs": [],
   "source": [
    "df_1 = df[df[\"gdpPercap_1972\"] > 10000]\n",
    "df_1.shape"
   ]
  },
  {
   "cell_type": "markdown",
   "metadata": {},
   "source": [
    "## Create new columns\n",
    "\n",
    "* We can easily create new columns in the same way we would add a key and value to a dictionary"
   ]
  },
  {
   "cell_type": "code",
   "execution_count": null,
   "metadata": {},
   "outputs": [],
   "source": [
    "# Create a new column diff_07_52 that is the difference between gdp per capita from 1952 to 2007\n",
    "df[\"diff_07_52\"] = df[\"gdpPercap_2007\"] - df[\"gdpPercap_1952\"]\n",
    "df.head()"
   ]
  },
  {
   "cell_type": "markdown",
   "metadata": {},
   "source": [
    "# Exercises\n",
    "\n",
    "> ## Selection of Individual Values\n",
    ">\n",
    "> Assume Pandas has been imported into your notebook and the Gapminder GDP data for Europe has been loaded:\n",
    ">\n",
    "> ~~~\n",
    "> import pandas\n",
    ">\n",
    "> df = pandas.read_csv('data/gapminder_gdp_europe.csv', index_col='country')\n",
    "> ~~~\n",
    ">\n",
    "> Write an expression to find the Per Capita GDP of Serbia in 2007.\n",
    "\n",
    ">> ### Solution:\n",
    ">>The selection can be done by using the labels for both the row (“Serbia”) and the column (“gdpPercap_2007”):\n",
    "\n",
    ">>`print(df.loc['Serbia', 'gdpPercap_2007'])`\n",
    "\n",
    ">>The output is\n",
    "\n",
    ">>`9786.534714`"
   ]
  },
  {
   "cell_type": "markdown",
   "metadata": {},
   "source": [
    "> ## Extent of Slicing\n",
    ">\n",
    "> 1.  Do the two statements below produce the same output?\n",
    "> 2.  Based on this,what rule governs what is included (or not) in numerical slices and named slices in Pandas?\n",
    ">\n",
    "> ~~~\n",
    "> print(df.iloc[0:2, 0:2])\n",
    "> print(df.loc['Albania':'Belgium', 'gdpPercap_1952':'gdpPercap_1962'])\n",
    "> ~~~\n",
    "> \n",
    ">>### Solution\n",
    ">> No, they do not produce the same output! The output of the first statement is:\n",
    "\n",
    ">>        gdpPercap_1952  gdpPercap_1957\n",
    ">>country                                \n",
    ">>Albania     1601.056136     1942.284244\n",
    ">>Austria     6137.076492     8842.598030\n",
    "\n",
    ">>The second statement gives:\n",
    "~~~\n",
    ">>           gdpPercap_1952  gdpPercap_1957  gdpPercap_1962 \\\n",
    ">>country                                                \n",
    ">>Albania     1601.056136     1942.284244     2312.888958\n",
    ">>Austria     6137.076492     8842.598030    10750.721110\n",
    ">>Belgium     8343.105127     9714.960623    10991.206760\n",
    "~~~\n",
    ">>Clearly, the second statement produces an additional column compared to the first statement. What conclusion can we draw? We see that a numerical slice, 0:2, omits the final index (i.e. index 2) in the range provided, while a named slice, ‘gdpPercap_1952’:’gdpPercap_1962’, includes the final element"
   ]
  },
  {
   "cell_type": "markdown",
   "metadata": {},
   "source": [
    "> ## Reconstructing Data\n",
    ">\n",
    "> Explain what each line in the following short program does:\n",
    "> what is in `first`, `second`, etc.?\n",
    ">\n",
    "> ~~~\n",
    "> first = pandas.read_csv('data/gapminder_gdp_all.csv', index_col='country')\n",
    "> second = df[df['continent'] == 'Americas']\n",
    "> third = second.drop('Puerto Rico')\n",
    "> fourth = third.drop('continent', axis = 1)\n",
    "> fourth.to_csv('result.csv')\n",
    "> ~~~\n",
    "\n",
    ">>### Solution\n",
    ">>Let’s go through this piece of code line by line.\n",
    ">>\n",
    ">>`first = pandas.read_csv('data/gapminder_all.csv', index_col='country')`\n",
    ">>\n",
    ">>This line loads the dataset containing the GDP data from all countries into a dataframe called first. The index_col='country' parameter selects which column to use as the row labels in the dataframe.\n",
    ">>\n",
    ">>`second = first[first['continent'] == 'Americas']`\n",
    ">>\n",
    ">>This line makes a selection: only those rows of first for which the ‘continent’ column matches ‘Americas’ are extracted. Notice how the Boolean expression inside the brackets, first['continent'] == 'Americas', is used to select only those rows where the expression is true. Try printing this expression! Can you print also its individual True/False elements? (hint: first assign the expression to a variable)\n",
    ">>\n",
    ">>`third = second.drop('Puerto Rico')`\n",
    ">>\n",
    ">>As the syntax suggests, this line drops the row from second where the label is ‘Puerto Rico’. The resulting dataframe third has one row less than the original dataframe second.\n",
    ">>\n",
    ">>`fourth = third.drop('continent', axis = 1)`\n",
    ">>\n",
    ">>Again we apply the drop function, but in this case we are dropping not a row but a whole column. To accomplish this, we need to specify also the axis parameter (we want to drop the second column which has index 1).\n",
    ">>\n",
    ">>`fourth.to_csv('result.csv')`\n",
    ">>\n",
    ">>The final step is to write the data that we have been working on to a csv file. Pandas makes this easy with the to_csv() function. The only required argument to the function is the filename. Note that the file will be written in the directory from which you started the Jupyter or Python session."
   ]
  },
  {
   "cell_type": "markdown",
   "metadata": {},
   "source": [
    "> ## Selecting Indices\n",
    ">\n",
    "> Explain in simple terms what `idxmin` and `idxmax` do in the short program below.\n",
    "> When would you use these methods?\n",
    ">\n",
    "> ~~~\n",
    "> df = pandas.load_csv('data/gapminder_gdp_europe.csv', index_col='country')\n",
    "> print(df.idxmin())\n",
    "> print(df.idxmax())\n",
    "> ~~~\n",
    ">> ### Solution\n",
    ">> For each column in data, idxmin will return the index value corresponding to each column’s minimum; idxmax will do accordingly the same for each column’s maximum value."
   ]
  },
  {
   "cell_type": "markdown",
   "metadata": {},
   "source": [
    "> ## Practice with Selection.\n",
    ">\n",
    "> Assume Pandas has been imported and the Gapminder GDP data for Europe has been loaded.\n",
    "> Write an expression to select each of the following:\n",
    ">\n",
    "> 1.  GDP per capita for all countries in 1982.\n",
    "> 2.  GDP per capita for Denmark for all years.\n",
    "> 3.  GDP per capita for all countries for years *after* 1985.\n",
    "> 4.  GDP per capita for each country in 2007 as a multiple of \n",
    ">     GDP per capita for that country in 1952.\n",
    "\n",
    ">>### Solution\n",
    ">>1: `df['gdpPercap_1982']`\n",
    ">>\n",
    ">>2: `df.loc['Denmark',:]`\n",
    ">>\n",
    ">>3: `df.loc[:,'gdpPercap_1985':]`\n",
    ">>\n",
    ">>4: `df['gdpPercap_2007']/data['gdpPercap_1952']`\n",
    ">>\n",
    "\n",
    ">> ## Interpretation\n",
    ">>\n",
    ">> Poland's borders have been stable since 1945, but changed several times in the years before then. How would you handle this if you were creating a table of GDP per capita for Poland for the entire Twentieth Century?"
   ]
  },
  {
   "cell_type": "markdown",
   "metadata": {},
   "source": [
    "---\n",
    "## Keypoints:\n",
    " - \"Use `DataFrame.iloc[..., ...]` to select values by index location.\"\n",
    " - \"Use `:` on its own to mean all columns or all rows.\"\n",
    " - \"Select multiple columns or rows using `DataFrame.ix` and a named slice.\"\n",
    " - \"Result of slicing can be used in further operations.\"\n",
    " - \"Use comparisons to select data based on value.\"\n",
    " - \"Select values or NaN using a Boolean mask.\""
   ]
  }
 ],
 "metadata": {
  "kernelspec": {
   "display_name": "Python 3",
   "language": "python",
   "name": "python3"
  },
  "language_info": {
   "codemirror_mode": {
    "name": "ipython",
    "version": 3
   },
   "file_extension": ".py",
   "mimetype": "text/x-python",
   "name": "python",
   "nbconvert_exporter": "python",
   "pygments_lexer": "ipython3",
   "version": "3.6.1"
  }
 },
 "nbformat": 4,
 "nbformat_minor": 2
}
