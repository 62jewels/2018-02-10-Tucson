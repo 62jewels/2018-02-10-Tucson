{
 "cells": [
  {
   "cell_type": "markdown",
   "metadata": {},
   "source": [
    "Pandas Data Frames\n",
    "=========="
   ]
  },
  {
   "cell_type": "markdown",
   "metadata": {},
   "source": [
    "The DataFrame is the way Pandas represents a table, and Series is the data-structure Pandas use to represent a column. So, a data frame and series are synonomous with table and column.\n",
    "\n",
    "What makes Pandas so attractive is the powerful interface to access individual records of the table, proper handling of missing values, and relational-databases operations between DataFrames."
   ]
  },
  {
   "cell_type": "code",
   "execution_count": 1,
   "metadata": {
    "collapsed": true
   },
   "outputs": [],
   "source": [
    "# LOAD IN A DATA FRAME\n",
    "from matplotlib import pyplot as plt\n",
    "import pandas as pd\n",
    "df = pd.read_csv('../data/gapminder_gdp_europe.csv', index_col='country')"
   ]
  },
  {
   "cell_type": "markdown",
   "metadata": {},
   "source": [
    "## Inspecting Data\n",
    "\n",
    "\n",
    "* We can print the first or last x number of rows of our data frame using the head() and tails() functions."
   ]
  },
  {
   "cell_type": "code",
   "execution_count": 2,
   "metadata": {},
   "outputs": [
    {
     "name": "stdout",
     "output_type": "stream",
     "text": [
      "         gdpPercap_1952  gdpPercap_1957  gdpPercap_1962  gdpPercap_1967  \\\n",
      "country                                                                   \n",
      "Albania     1601.056136     1942.284244     2312.888958     2760.196931   \n",
      "Austria     6137.076492     8842.598030    10750.721110    12834.602400   \n",
      "Belgium     8343.105127     9714.960623    10991.206760    13149.041190   \n",
      "\n",
      "         gdpPercap_1972  gdpPercap_1977  gdpPercap_1982  gdpPercap_1987  \\\n",
      "country                                                                   \n",
      "Albania     3313.422188      3533.00391     3630.880722     3738.932735   \n",
      "Austria    16661.625600     19749.42230    21597.083620    23687.826070   \n",
      "Belgium    16672.143560     19117.97448    20979.845890    22525.563080   \n",
      "\n",
      "         gdpPercap_1992  gdpPercap_1997  gdpPercap_2002  gdpPercap_2007  \n",
      "country                                                                  \n",
      "Albania     2497.437901     3193.054604     4604.211737     5937.029526  \n",
      "Austria    27042.018680    29095.920660    32417.607690    36126.492700  \n",
      "Belgium    25575.570690    27561.196630    30485.883750    33692.605080  \n"
     ]
    }
   ],
   "source": [
    "print(df.head(3))"
   ]
  },
  {
   "cell_type": "code",
   "execution_count": 3,
   "metadata": {},
   "outputs": [
    {
     "name": "stdout",
     "output_type": "stream",
     "text": [
      "                gdpPercap_1952  gdpPercap_1957  gdpPercap_1962  \\\n",
      "country                                                          \n",
      "Switzerland       14734.232750    17909.489730    20431.092700   \n",
      "Turkey             1969.100980     2218.754257     2322.869908   \n",
      "United Kingdom     9979.508487    11283.177950    12477.177070   \n",
      "\n",
      "                gdpPercap_1967  gdpPercap_1972  gdpPercap_1977  \\\n",
      "country                                                          \n",
      "Switzerland       22966.144320     27195.11304    26982.290520   \n",
      "Turkey             2826.356387      3450.69638     4269.122326   \n",
      "United Kingdom    14142.850890     15895.11641    17428.748460   \n",
      "\n",
      "                gdpPercap_1982  gdpPercap_1987  gdpPercap_1992  \\\n",
      "country                                                          \n",
      "Switzerland       28397.715120    30281.704590    31871.530300   \n",
      "Turkey             4241.356344     5089.043686     5678.348271   \n",
      "United Kingdom    18232.424520    21664.787670    22705.092540   \n",
      "\n",
      "                gdpPercap_1997  gdpPercap_2002  gdpPercap_2007  \n",
      "country                                                         \n",
      "Switzerland       32135.323010    34480.957710    37506.419070  \n",
      "Turkey             6601.429915     6508.085718     8458.276384  \n",
      "United Kingdom    26074.531360    29478.999190    33203.261280  \n"
     ]
    }
   ],
   "source": [
    "print(df.tail(3))"
   ]
  },
  {
   "cell_type": "markdown",
   "metadata": {},
   "source": [
    "* We can use `dftypes` and `info()` to also get information about the data"
   ]
  },
  {
   "cell_type": "code",
   "execution_count": 4,
   "metadata": {},
   "outputs": [
    {
     "name": "stdout",
     "output_type": "stream",
     "text": [
      "gdpPercap_1952    float64\n",
      "gdpPercap_1957    float64\n",
      "gdpPercap_1962    float64\n",
      "gdpPercap_1967    float64\n",
      "gdpPercap_1972    float64\n",
      "gdpPercap_1977    float64\n",
      "gdpPercap_1982    float64\n",
      "gdpPercap_1987    float64\n",
      "gdpPercap_1992    float64\n",
      "gdpPercap_1997    float64\n",
      "gdpPercap_2002    float64\n",
      "gdpPercap_2007    float64\n",
      "dtype: object\n"
     ]
    }
   ],
   "source": [
    "print(df.dtypes)"
   ]
  },
  {
   "cell_type": "code",
   "execution_count": 5,
   "metadata": {},
   "outputs": [
    {
     "name": "stdout",
     "output_type": "stream",
     "text": [
      "<class 'pandas.core.frame.DataFrame'>\n",
      "Index: 30 entries, Albania to United Kingdom\n",
      "Data columns (total 12 columns):\n",
      "gdpPercap_1952    30 non-null float64\n",
      "gdpPercap_1957    30 non-null float64\n",
      "gdpPercap_1962    30 non-null float64\n",
      "gdpPercap_1967    30 non-null float64\n",
      "gdpPercap_1972    30 non-null float64\n",
      "gdpPercap_1977    30 non-null float64\n",
      "gdpPercap_1982    30 non-null float64\n",
      "gdpPercap_1987    30 non-null float64\n",
      "gdpPercap_1992    30 non-null float64\n",
      "gdpPercap_1997    30 non-null float64\n",
      "gdpPercap_2002    30 non-null float64\n",
      "gdpPercap_2007    30 non-null float64\n",
      "dtypes: float64(12)\n",
      "memory usage: 3.0+ KB\n",
      "None\n"
     ]
    }
   ],
   "source": [
    "print(df.info())"
   ]
  },
  {
   "cell_type": "markdown",
   "metadata": {},
   "source": [
    "* Use `describe()` to get basic statistical info about the data"
   ]
  },
  {
   "cell_type": "code",
   "execution_count": 6,
   "metadata": {},
   "outputs": [
    {
     "name": "stdout",
     "output_type": "stream",
     "text": [
      "       gdpPercap_1952  gdpPercap_1957  gdpPercap_1962  gdpPercap_1967  \\\n",
      "count       30.000000       30.000000       30.000000       30.000000   \n",
      "mean      5661.057435     6963.012816     8365.486814    10143.823757   \n",
      "std       3114.060493     3677.950146     4199.193906     4724.983889   \n",
      "min        973.533195     1353.989176     1709.683679     2172.352423   \n",
      "25%       3241.132406     4394.874315     5373.536612     6657.939047   \n",
      "50%       5142.469716     6066.721495     7515.733738     9366.067033   \n",
      "75%       7236.794919     9597.220820    10931.085347    13277.182057   \n",
      "max      14734.232750    17909.489730    20431.092700    22966.144320   \n",
      "\n",
      "       gdpPercap_1972  gdpPercap_1977  gdpPercap_1982  gdpPercap_1987  \\\n",
      "count       30.000000       30.000000       30.000000       30.000000   \n",
      "mean     12479.575246    14283.979110    15617.896551    17214.310727   \n",
      "std       5509.691411     5874.464896     6453.234827     7482.957960   \n",
      "min       2860.169750     3528.481305     3630.880722     3738.932735   \n",
      "25%       9057.708095    10360.030300    11449.870115    12274.570680   \n",
      "50%      12326.379990    14225.754515    15322.824720    16215.485895   \n",
      "75%      16523.017127    19052.412163    20901.729730    23321.587723   \n",
      "max      27195.113040    26982.290520    28397.715120    31540.974800   \n",
      "\n",
      "       gdpPercap_1992  gdpPercap_1997  gdpPercap_2002  gdpPercap_2007  \n",
      "count       30.000000       30.000000       30.000000       30.000000  \n",
      "mean     17061.568084    19076.781802    21711.732422    25054.481636  \n",
      "std       9109.804361    10065.457716    11197.355517    11800.339811  \n",
      "min       2497.437901     3193.054604     4604.211737     5937.029526  \n",
      "25%       8667.113214     9946.599306    11721.851483    14811.898210  \n",
      "50%      17550.155945    19596.498550    23674.863230    28054.065790  \n",
      "75%      25034.243045    27189.530312    30373.363307    33817.962533  \n",
      "max      33965.661150    41283.164330    44683.975250    49357.190170  \n"
     ]
    }
   ],
   "source": [
    "print(df.describe())"
   ]
  },
  {
   "cell_type": "markdown",
   "metadata": {},
   "source": [
    "* Can also use describe() on data frame selections (like a single column)"
   ]
  },
  {
   "cell_type": "code",
   "execution_count": 164,
   "metadata": {},
   "outputs": [
    {
     "name": "stdout",
     "output_type": "stream",
     "text": [
      "count       30.000000\n",
      "mean     15617.896551\n",
      "std       6453.234827\n",
      "min       3630.880722\n",
      "25%      11449.870115\n",
      "50%      15322.824720\n",
      "75%      20901.729730\n",
      "max      28397.715120\n",
      "Name: gdpPercap_1982, dtype: float64\n"
     ]
    }
   ],
   "source": [
    "print( df[\"gdpPercap_1982\"].describe() )"
   ]
  },
  {
   "cell_type": "markdown",
   "metadata": {},
   "source": [
    "* Use `shape` to get the row and column numbers"
   ]
  },
  {
   "cell_type": "code",
   "execution_count": 165,
   "metadata": {},
   "outputs": [
    {
     "name": "stdout",
     "output_type": "stream",
     "text": [
      "(30, 12)\n"
     ]
    }
   ],
   "source": [
    "print(df.shape)"
   ]
  },
  {
   "cell_type": "markdown",
   "metadata": {},
   "source": [
    "Here we can see the that the data have 30 rows of data and 12 attributes worth of information.\n",
    "\n",
    "* Use the `len()` function to get numbers of each individually"
   ]
  },
  {
   "cell_type": "code",
   "execution_count": 166,
   "metadata": {},
   "outputs": [
    {
     "name": "stdout",
     "output_type": "stream",
     "text": [
      "30\n"
     ]
    }
   ],
   "source": [
    "# print number of rows of data\n",
    "print(len(df))"
   ]
  },
  {
   "cell_type": "code",
   "execution_count": 167,
   "metadata": {},
   "outputs": [
    {
     "name": "stdout",
     "output_type": "stream",
     "text": [
      "12\n"
     ]
    }
   ],
   "source": [
    "# print number of columns of data\n",
    "print(len(df.columns))"
   ]
  },
  {
   "cell_type": "markdown",
   "metadata": {},
   "source": [
    "* Get the column names with `columns()`"
   ]
  },
  {
   "cell_type": "code",
   "execution_count": 168,
   "metadata": {},
   "outputs": [
    {
     "name": "stdout",
     "output_type": "stream",
     "text": [
      "Index(['gdpPercap_1952', 'gdpPercap_1957', 'gdpPercap_1962', 'gdpPercap_1967',\n",
      "       'gdpPercap_1972', 'gdpPercap_1977', 'gdpPercap_1982', 'gdpPercap_1987',\n",
      "       'gdpPercap_1992', 'gdpPercap_1997', 'gdpPercap_2002', 'gdpPercap_2007'],\n",
      "      dtype='object')\n"
     ]
    }
   ],
   "source": [
    "print(df.columns)"
   ]
  },
  {
   "cell_type": "markdown",
   "metadata": {},
   "source": [
    "* Use a column name to get all values for that columns"
   ]
  },
  {
   "cell_type": "markdown",
   "metadata": {},
   "source": [
    "---\n",
    "## Get information about a particular column\n",
    "\n",
    "* Operations like mean, max, min, can be used on individual columns"
   ]
  },
  {
   "cell_type": "code",
   "execution_count": 56,
   "metadata": {},
   "outputs": [
    {
     "name": "stdout",
     "output_type": "stream",
     "text": [
      "10143.823756533333\n",
      "12479.57524646667\n",
      "14283.9791096\n"
     ]
    }
   ],
   "source": [
    "# Mean GDP in 1967\n",
    "print(df[\"gdpPercap_1967\"].mean())\n",
    "# Mean GDP in 1972\n",
    "print(df[\"gdpPercap_1972\"].mean())\n",
    "# Mean GDP in 1977\n",
    "print(df[\"gdpPercap_1977\"].mean())\n"
   ]
  },
  {
   "cell_type": "markdown",
   "metadata": {},
   "source": [
    "## Rearange Columns\n",
    "\n",
    "* Difficult to do using a csv library and doing this by hand\n",
    "* The reverse() function will reverse the ordering of a list\n",
    "     * E.g.   `['a', 'b', 'c']` to `['c', 'b', 'a']`"
   ]
  },
  {
   "cell_type": "code",
   "execution_count": 90,
   "metadata": {},
   "outputs": [
    {
     "name": "stdout",
     "output_type": "stream",
     "text": [
      "['gdpPercap_1952', 'gdpPercap_1957', 'gdpPercap_1962', 'gdpPercap_1967', 'gdpPercap_1972', 'gdpPercap_1977', 'gdpPercap_1982', 'gdpPercap_1987', 'gdpPercap_1992', 'gdpPercap_1997', 'gdpPercap_2002', 'gdpPercap_2007']\n",
      "['gdpPercap_2007', 'gdpPercap_2002', 'gdpPercap_1997', 'gdpPercap_1992', 'gdpPercap_1987', 'gdpPercap_1982', 'gdpPercap_1977', 'gdpPercap_1972', 'gdpPercap_1967', 'gdpPercap_1962', 'gdpPercap_1957', 'gdpPercap_1952']\n"
     ]
    }
   ],
   "source": [
    "cols = list(df.columns)\n",
    "print( cols )\n",
    "\n",
    "cols.reverse()\n",
    "print ( cols )"
   ]
  },
  {
   "cell_type": "markdown",
   "metadata": {},
   "source": [
    "* Using that now reversed list above, we can create a new list, with the values order in reverse"
   ]
  },
  {
   "cell_type": "code",
   "execution_count": 169,
   "metadata": {},
   "outputs": [
    {
     "data": {
      "text/html": [
       "<div>\n",
       "<style>\n",
       "    .dataframe thead tr:only-child th {\n",
       "        text-align: right;\n",
       "    }\n",
       "\n",
       "    .dataframe thead th {\n",
       "        text-align: left;\n",
       "    }\n",
       "\n",
       "    .dataframe tbody tr th {\n",
       "        vertical-align: top;\n",
       "    }\n",
       "</style>\n",
       "<table border=\"1\" class=\"dataframe\">\n",
       "  <thead>\n",
       "    <tr style=\"text-align: right;\">\n",
       "      <th></th>\n",
       "      <th>gdpPercap_2007</th>\n",
       "      <th>gdpPercap_2002</th>\n",
       "      <th>gdpPercap_1997</th>\n",
       "      <th>gdpPercap_1992</th>\n",
       "      <th>gdpPercap_1987</th>\n",
       "      <th>gdpPercap_1982</th>\n",
       "      <th>gdpPercap_1977</th>\n",
       "      <th>gdpPercap_1972</th>\n",
       "      <th>gdpPercap_1967</th>\n",
       "      <th>gdpPercap_1962</th>\n",
       "      <th>gdpPercap_1957</th>\n",
       "      <th>gdpPercap_1952</th>\n",
       "    </tr>\n",
       "    <tr>\n",
       "      <th>country</th>\n",
       "      <th></th>\n",
       "      <th></th>\n",
       "      <th></th>\n",
       "      <th></th>\n",
       "      <th></th>\n",
       "      <th></th>\n",
       "      <th></th>\n",
       "      <th></th>\n",
       "      <th></th>\n",
       "      <th></th>\n",
       "      <th></th>\n",
       "      <th></th>\n",
       "    </tr>\n",
       "  </thead>\n",
       "  <tbody>\n",
       "    <tr>\n",
       "      <th>Albania</th>\n",
       "      <td>5937.029526</td>\n",
       "      <td>4604.211737</td>\n",
       "      <td>3193.054604</td>\n",
       "      <td>2497.437901</td>\n",
       "      <td>3738.932735</td>\n",
       "      <td>3630.880722</td>\n",
       "      <td>3533.00391</td>\n",
       "      <td>3313.422188</td>\n",
       "      <td>2760.196931</td>\n",
       "      <td>2312.888958</td>\n",
       "      <td>1942.284244</td>\n",
       "      <td>1601.056136</td>\n",
       "    </tr>\n",
       "    <tr>\n",
       "      <th>Austria</th>\n",
       "      <td>36126.492700</td>\n",
       "      <td>32417.607690</td>\n",
       "      <td>29095.920660</td>\n",
       "      <td>27042.018680</td>\n",
       "      <td>23687.826070</td>\n",
       "      <td>21597.083620</td>\n",
       "      <td>19749.42230</td>\n",
       "      <td>16661.625600</td>\n",
       "      <td>12834.602400</td>\n",
       "      <td>10750.721110</td>\n",
       "      <td>8842.598030</td>\n",
       "      <td>6137.076492</td>\n",
       "    </tr>\n",
       "    <tr>\n",
       "      <th>Belgium</th>\n",
       "      <td>33692.605080</td>\n",
       "      <td>30485.883750</td>\n",
       "      <td>27561.196630</td>\n",
       "      <td>25575.570690</td>\n",
       "      <td>22525.563080</td>\n",
       "      <td>20979.845890</td>\n",
       "      <td>19117.97448</td>\n",
       "      <td>16672.143560</td>\n",
       "      <td>13149.041190</td>\n",
       "      <td>10991.206760</td>\n",
       "      <td>9714.960623</td>\n",
       "      <td>8343.105127</td>\n",
       "    </tr>\n",
       "  </tbody>\n",
       "</table>\n",
       "</div>"
      ],
      "text/plain": [
       "         gdpPercap_2007  gdpPercap_2002  gdpPercap_1997  gdpPercap_1992  \\\n",
       "country                                                                   \n",
       "Albania     5937.029526     4604.211737     3193.054604     2497.437901   \n",
       "Austria    36126.492700    32417.607690    29095.920660    27042.018680   \n",
       "Belgium    33692.605080    30485.883750    27561.196630    25575.570690   \n",
       "\n",
       "         gdpPercap_1987  gdpPercap_1982  gdpPercap_1977  gdpPercap_1972  \\\n",
       "country                                                                   \n",
       "Albania     3738.932735     3630.880722      3533.00391     3313.422188   \n",
       "Austria    23687.826070    21597.083620     19749.42230    16661.625600   \n",
       "Belgium    22525.563080    20979.845890     19117.97448    16672.143560   \n",
       "\n",
       "         gdpPercap_1967  gdpPercap_1962  gdpPercap_1957  gdpPercap_1952  \n",
       "country                                                                  \n",
       "Albania     2760.196931     2312.888958     1942.284244     1601.056136  \n",
       "Austria    12834.602400    10750.721110     8842.598030     6137.076492  \n",
       "Belgium    13149.041190    10991.206760     9714.960623     8343.105127  "
      ]
     },
     "execution_count": 169,
     "metadata": {},
     "output_type": "execute_result"
    }
   ],
   "source": [
    "new_df = df[cols]\n",
    "new_df.head(3)"
   ]
  },
  {
   "cell_type": "markdown",
   "metadata": {},
   "source": [
    "## Selecting values\n",
    "\n",
    "Remember that a DataFrame provides a index as a way to identify the rows of the table. A row also has a position inside the table as well as a label, which uniquely identifies its entry in the DataFrame.\n",
    "\n",
    "To access a value at the position [ i , j ] (row, column) of a DataFrame, we have two options, depending on what is the meaning of i in use.\n",
    "\n"
   ]
  },
  {
   "cell_type": "markdown",
   "metadata": {},
   "source": [
    "We can see that the first value in the first column is `1601.056136`. Remember that in programming, we begin our counting at zero, so this index would be `0,0`, not `1,1`."
   ]
  },
  {
   "cell_type": "markdown",
   "metadata": {},
   "source": [
    "### Use DataFrame.iloc[..., ...] to select values by their position\n",
    "* Allows you to specify location by numerical index similar to 2D version of character selection in strings.\n"
   ]
  },
  {
   "cell_type": "code",
   "execution_count": 11,
   "metadata": {},
   "outputs": [
    {
     "name": "stdout",
     "output_type": "stream",
     "text": [
      "\n",
      "Data value in first row at first column:  1601.056136\n"
     ]
    }
   ],
   "source": [
    "print(\"\\nData value in first row at first column: \", df.iloc[0, 0])"
   ]
  },
  {
   "cell_type": "code",
   "execution_count": 12,
   "metadata": {},
   "outputs": [
    {
     "name": "stdout",
     "output_type": "stream",
     "text": [
      "\n",
      "Data value in fifth row at third column:  4254.337839\n"
     ]
    }
   ],
   "source": [
    "print(\"\\nData value in fifth row at third column: \", df.iloc[4, 2])"
   ]
  },
  {
   "cell_type": "markdown",
   "metadata": {},
   "source": [
    "### Use `DataFrame.loc[..., ...]` to select values by their (entry) label.\n",
    "\n",
    "*   Can specify location by name or by numerical index."
   ]
  },
  {
   "cell_type": "code",
   "execution_count": 13,
   "metadata": {},
   "outputs": [
    {
     "name": "stdout",
     "output_type": "stream",
     "text": [
      "1601.056136\n"
     ]
    }
   ],
   "source": [
    "print(df.loc[\"Albania\", \"gdpPercap_1952\"])"
   ]
  },
  {
   "cell_type": "code",
   "execution_count": 14,
   "metadata": {},
   "outputs": [
    {
     "name": "stdout",
     "output_type": "stream",
     "text": [
      "4254.337839\n"
     ]
    }
   ],
   "source": [
    "print(df.loc['Bulgaria', \"gdpPercap_1962\"])"
   ]
  },
  {
   "cell_type": "markdown",
   "metadata": {},
   "source": [
    "### Use `:` on its own to mean all columns or all rows.\n",
    "\n",
    "*   Just like Python's usual slicing notation, we can print all columns or all rows with `.loc` using the `:`"
   ]
  },
  {
   "cell_type": "code",
   "execution_count": 15,
   "metadata": {},
   "outputs": [
    {
     "name": "stdout",
     "output_type": "stream",
     "text": [
      "gdpPercap_1952    1601.056136\n",
      "gdpPercap_1957    1942.284244\n",
      "gdpPercap_1962    2312.888958\n",
      "gdpPercap_1967    2760.196931\n",
      "gdpPercap_1972    3313.422188\n",
      "gdpPercap_1977    3533.003910\n",
      "gdpPercap_1982    3630.880722\n",
      "gdpPercap_1987    3738.932735\n",
      "gdpPercap_1992    2497.437901\n",
      "gdpPercap_1997    3193.054604\n",
      "gdpPercap_2002    4604.211737\n",
      "gdpPercap_2007    5937.029526\n",
      "Name: Albania, dtype: float64\n"
     ]
    }
   ],
   "source": [
    "print(df.loc[\"Albania\",:])"
   ]
  },
  {
   "cell_type": "markdown",
   "metadata": {},
   "source": [
    "* Would get the same result printing `df.iloc[0]` (without a second index).\n",
    "* We can also omit the `:` and get the same result in either case.\n",
    "    * e.g. `df.loc[\"Albania\"]`"
   ]
  },
  {
   "cell_type": "code",
   "execution_count": 16,
   "metadata": {},
   "outputs": [
    {
     "name": "stdout",
     "output_type": "stream",
     "text": [
      "country\n",
      "Albania                    1601.056136\n",
      "Austria                    6137.076492\n",
      "Belgium                    8343.105127\n",
      "Bosnia and Herzegovina      973.533195\n",
      "Bulgaria                   2444.286648\n",
      "Croatia                    3119.236520\n",
      "Czech Republic             6876.140250\n",
      "Denmark                    9692.385245\n",
      "Finland                    6424.519071\n",
      "France                     7029.809327\n",
      "Germany                    7144.114393\n",
      "Greece                     3530.690067\n",
      "Hungary                    5263.673816\n",
      "Iceland                    7267.688428\n",
      "Ireland                    5210.280328\n",
      "Italy                      4931.404155\n",
      "Montenegro                 2647.585601\n",
      "Netherlands                8941.571858\n",
      "Norway                    10095.421720\n",
      "Poland                     4029.329699\n",
      "Portugal                   3068.319867\n",
      "Romania                    3144.613186\n",
      "Serbia                     3581.459448\n",
      "Slovak Republic            5074.659104\n",
      "Slovenia                   4215.041741\n",
      "Spain                      3834.034742\n",
      "Sweden                     8527.844662\n",
      "Switzerland               14734.232750\n",
      "Turkey                     1969.100980\n",
      "United Kingdom             9979.508487\n",
      "Name: gdpPercap_1952, dtype: float64\n"
     ]
    }
   ],
   "source": [
    "print(df.loc[:, \"gdpPercap_1952\"])"
   ]
  },
  {
   "cell_type": "markdown",
   "metadata": {},
   "source": [
    "*   Would get the same result printing `df[\"gdpPercap_1952\"]`\n",
    "*   Also get the same result printing `df.gdpPercap_1952` (since it's a column name)"
   ]
  },
  {
   "cell_type": "markdown",
   "metadata": {},
   "source": [
    "### Select multiple columns or rows using `DataFrame.iloc` and a named slice."
   ]
  },
  {
   "cell_type": "code",
   "execution_count": 17,
   "metadata": {},
   "outputs": [
    {
     "name": "stdout",
     "output_type": "stream",
     "text": [
      "             gdpPercap_1962  gdpPercap_1967  gdpPercap_1972\n",
      "country                                                    \n",
      "Italy           8243.582340    10022.401310    12269.273780\n",
      "Montenegro      4649.593785     5907.850937     7778.414017\n",
      "Netherlands    12790.849560    15363.251360    18794.745670\n",
      "Norway         13450.401510    16361.876470    18965.055510\n",
      "Poland          5338.752143     6557.152776     8006.506993\n"
     ]
    }
   ],
   "source": [
    "print(df.loc['Italy':'Poland', 'gdpPercap_1962':'gdpPercap_1972'])"
   ]
  },
  {
   "cell_type": "markdown",
   "metadata": {},
   "source": [
    "In the above code, we discover that **slicing using indexes is inclusive at both ends**, which differs from typical python behavior where slicing indicates everything up to but not including the final index.\n",
    "\n",
    "However, if we use integers when our DataFrame is indexed by something else, slicing follows typical pythonic behavior."
   ]
  },
  {
   "cell_type": "markdown",
   "metadata": {},
   "source": [
    "## Result of slicing can be used in further operations."
   ]
  },
  {
   "cell_type": "code",
   "execution_count": 18,
   "metadata": {},
   "outputs": [
    {
     "name": "stdout",
     "output_type": "stream",
     "text": [
      "gdpPercap_1962    13450.40151\n",
      "gdpPercap_1967    16361.87647\n",
      "gdpPercap_1972    18965.05551\n",
      "dtype: float64\n"
     ]
    }
   ],
   "source": [
    "print(df.loc['Italy':'Poland', 'gdpPercap_1962':'gdpPercap_1972'].max())"
   ]
  },
  {
   "cell_type": "code",
   "execution_count": 19,
   "metadata": {},
   "outputs": [
    {
     "name": "stdout",
     "output_type": "stream",
     "text": [
      "gdpPercap_1962    4649.593785\n",
      "gdpPercap_1967    5907.850937\n",
      "gdpPercap_1972    7778.414017\n",
      "dtype: float64\n"
     ]
    }
   ],
   "source": [
    "print(df.loc['Italy':'Poland', 'gdpPercap_1962':'gdpPercap_1972'].min())"
   ]
  },
  {
   "cell_type": "markdown",
   "metadata": {},
   "source": [
    "*   Usually don't just print a slice.\n",
    "*   All the statistical operators that work on entire data frames work the same way on slices."
   ]
  },
  {
   "cell_type": "markdown",
   "metadata": {},
   "source": [
    "## Create data frame from selections\n",
    "\n",
    "We can create new data frame by selecting data frames based on values"
   ]
  },
  {
   "cell_type": "code",
   "execution_count": 150,
   "metadata": {},
   "outputs": [
    {
     "name": "stdout",
     "output_type": "stream",
     "text": [
      "Subset of data:\n",
      "              gdpPercap_1962  gdpPercap_1967  gdpPercap_1972\n",
      "country                                                    \n",
      "Italy           8243.582340    10022.401310    12269.273780\n",
      "Montenegro      4649.593785     5907.850937     7778.414017\n",
      "Netherlands    12790.849560    15363.251360    18794.745670\n",
      "Norway         13450.401510    16361.876470    18965.055510\n",
      "Poland          5338.752143     6557.152776     8006.506993\n"
     ]
    }
   ],
   "source": [
    "# Use a subset of data to keep output readable.\n",
    "subsetdf = df.loc['Italy':'Poland', 'gdpPercap_1962':'gdpPercap_1972']\n",
    "print('Subset of data:\\n', subset)"
   ]
  },
  {
   "cell_type": "markdown",
   "metadata": {},
   "source": [
    "### Create DataFrame using query\n",
    "\n",
    "* By passing a dataframe query to a itself, we can create a new dataframe with only those values"
   ]
  },
  {
   "cell_type": "code",
   "execution_count": 158,
   "metadata": {},
   "outputs": [
    {
     "name": "stdout",
     "output_type": "stream",
     "text": [
      "             gdpPercap_1962  gdpPercap_1967  gdpPercap_1972\n",
      "country                                                    \n",
      "Netherlands     12790.84956     15363.25136     18794.74567\n",
      "Norway          13450.40151     16361.87647     18965.05551\n"
     ]
    }
   ],
   "source": [
    "subset10kdf = subsetdf[subsetdf[\"gdpPercap_1962\"] >= 10000]\n",
    "# this is the same as subset[subset >= 10000]\n",
    "#print(\"Type: \", type(subset10kdf))\n",
    "print(subset10kdf)"
   ]
  },
  {
   "cell_type": "markdown",
   "metadata": {},
   "source": [
    "*   Get the value where the mask is true, and NaN (Not a Number) where it is false.\n",
    "*   Useful because NaNs are ignored by operations like max, min, average, etc."
   ]
  },
  {
   "cell_type": "markdown",
   "metadata": {},
   "source": [
    "## Filter a DataFrame using a Boolean mask\n",
    "\n",
    "* A frame full of Booleans is sometimes called a *mask* because of how it can be used\n",
    "* Comparison is applied element by element\n",
    "* Returns a similarly-shaped data frame of `True` and `False`"
   ]
  },
  {
   "cell_type": "code",
   "execution_count": 160,
   "metadata": {
    "scrolled": true
   },
   "outputs": [
    {
     "name": "stdout",
     "output_type": "stream",
     "text": [
      "             gdpPercap_1962  gdpPercap_1967  gdpPercap_1972\n",
      "country                                                    \n",
      "Italy                 False            True            True\n",
      "Montenegro            False           False           False\n",
      "Netherlands            True            True            True\n",
      "Norway                 True            True            True\n",
      "Poland                False           False           False\n"
     ]
    }
   ],
   "source": [
    "mask10k = subsetdf >= 10000\n",
    "print( mask10k )"
   ]
  },
  {
   "cell_type": "markdown",
   "metadata": {},
   "source": [
    "* We can use masks to filter an entire dataframe with a single query\n",
    "    * More efficient than using a single query on multiple columns"
   ]
  },
  {
   "cell_type": "code",
   "execution_count": 163,
   "metadata": {},
   "outputs": [
    {
     "name": "stdout",
     "output_type": "stream",
     "text": [
      "             gdpPercap_1962  gdpPercap_1967  gdpPercap_1972\n",
      "country                                                    \n",
      "Italy                   NaN     10022.40131     12269.27378\n",
      "Montenegro              NaN             NaN             NaN\n",
      "Netherlands     12790.84956     15363.25136     18794.74567\n",
      "Norway          13450.40151     16361.87647     18965.05551\n",
      "Poland                  NaN             NaN             NaN\n"
     ]
    }
   ],
   "source": [
    "subset = subsetdf[mask10k]\n",
    "print(subset)"
   ]
  },
  {
   "cell_type": "markdown",
   "metadata": {},
   "source": [
    "## Quiz\n",
    "\n",
    "* Create three data frames and get the size of each one.\n",
    "    1. Countries with a gdp per capita above 10000 in 1952\n",
    "    1. Countries with a gdp per capita above 10000 in 1962\n",
    "    1. Countries with a gdp per capita above 10000 in 1972\n",
    "\n"
   ]
  },
  {
   "cell_type": "code",
   "execution_count": 176,
   "metadata": {},
   "outputs": [
    {
     "data": {
      "text/plain": [
       "(2, 12)"
      ]
     },
     "execution_count": 176,
     "metadata": {},
     "output_type": "execute_result"
    }
   ],
   "source": [
    "df_1 = df[df[\"gdpPercap_1952\"] > 10000]\n",
    "df_1.shape"
   ]
  },
  {
   "cell_type": "code",
   "execution_count": 177,
   "metadata": {},
   "outputs": [
    {
     "data": {
      "text/plain": [
       "(12, 12)"
      ]
     },
     "execution_count": 177,
     "metadata": {},
     "output_type": "execute_result"
    }
   ],
   "source": [
    "df_1 = df[df[\"gdpPercap_1962\"] > 10000]\n",
    "df_1.shape"
   ]
  },
  {
   "cell_type": "code",
   "execution_count": 178,
   "metadata": {},
   "outputs": [
    {
     "data": {
      "text/plain": [
       "(19, 12)"
      ]
     },
     "execution_count": 178,
     "metadata": {},
     "output_type": "execute_result"
    }
   ],
   "source": [
    "df_1 = df[df[\"gdpPercap_1972\"] > 10000]\n",
    "df_1.shape"
   ]
  },
  {
   "cell_type": "markdown",
   "metadata": {},
   "source": [
    "## Create new columns\n",
    "\n",
    "* We can easily create new columns in the same way we would add a key and value to a dictionary"
   ]
  },
  {
   "cell_type": "code",
   "execution_count": 185,
   "metadata": {},
   "outputs": [
    {
     "data": {
      "text/html": [
       "<div>\n",
       "<style>\n",
       "    .dataframe thead tr:only-child th {\n",
       "        text-align: right;\n",
       "    }\n",
       "\n",
       "    .dataframe thead th {\n",
       "        text-align: left;\n",
       "    }\n",
       "\n",
       "    .dataframe tbody tr th {\n",
       "        vertical-align: top;\n",
       "    }\n",
       "</style>\n",
       "<table border=\"1\" class=\"dataframe\">\n",
       "  <thead>\n",
       "    <tr style=\"text-align: right;\">\n",
       "      <th></th>\n",
       "      <th>gdpPercap_1952</th>\n",
       "      <th>gdpPercap_1957</th>\n",
       "      <th>gdpPercap_1962</th>\n",
       "      <th>gdpPercap_1967</th>\n",
       "      <th>gdpPercap_1972</th>\n",
       "      <th>gdpPercap_1977</th>\n",
       "      <th>gdpPercap_1982</th>\n",
       "      <th>gdpPercap_1987</th>\n",
       "      <th>gdpPercap_1992</th>\n",
       "      <th>gdpPercap_1997</th>\n",
       "      <th>gdpPercap_2002</th>\n",
       "      <th>gdpPercap_2007</th>\n",
       "      <th>diff_07_52</th>\n",
       "    </tr>\n",
       "    <tr>\n",
       "      <th>country</th>\n",
       "      <th></th>\n",
       "      <th></th>\n",
       "      <th></th>\n",
       "      <th></th>\n",
       "      <th></th>\n",
       "      <th></th>\n",
       "      <th></th>\n",
       "      <th></th>\n",
       "      <th></th>\n",
       "      <th></th>\n",
       "      <th></th>\n",
       "      <th></th>\n",
       "      <th></th>\n",
       "    </tr>\n",
       "  </thead>\n",
       "  <tbody>\n",
       "    <tr>\n",
       "      <th>Albania</th>\n",
       "      <td>1601.056136</td>\n",
       "      <td>1942.284244</td>\n",
       "      <td>2312.888958</td>\n",
       "      <td>2760.196931</td>\n",
       "      <td>3313.422188</td>\n",
       "      <td>3533.003910</td>\n",
       "      <td>3630.880722</td>\n",
       "      <td>3738.932735</td>\n",
       "      <td>2497.437901</td>\n",
       "      <td>3193.054604</td>\n",
       "      <td>4604.211737</td>\n",
       "      <td>5937.029526</td>\n",
       "      <td>4335.973390</td>\n",
       "    </tr>\n",
       "    <tr>\n",
       "      <th>Austria</th>\n",
       "      <td>6137.076492</td>\n",
       "      <td>8842.598030</td>\n",
       "      <td>10750.721110</td>\n",
       "      <td>12834.602400</td>\n",
       "      <td>16661.625600</td>\n",
       "      <td>19749.422300</td>\n",
       "      <td>21597.083620</td>\n",
       "      <td>23687.826070</td>\n",
       "      <td>27042.018680</td>\n",
       "      <td>29095.920660</td>\n",
       "      <td>32417.607690</td>\n",
       "      <td>36126.492700</td>\n",
       "      <td>29989.416208</td>\n",
       "    </tr>\n",
       "    <tr>\n",
       "      <th>Belgium</th>\n",
       "      <td>8343.105127</td>\n",
       "      <td>9714.960623</td>\n",
       "      <td>10991.206760</td>\n",
       "      <td>13149.041190</td>\n",
       "      <td>16672.143560</td>\n",
       "      <td>19117.974480</td>\n",
       "      <td>20979.845890</td>\n",
       "      <td>22525.563080</td>\n",
       "      <td>25575.570690</td>\n",
       "      <td>27561.196630</td>\n",
       "      <td>30485.883750</td>\n",
       "      <td>33692.605080</td>\n",
       "      <td>25349.499953</td>\n",
       "    </tr>\n",
       "    <tr>\n",
       "      <th>Bosnia and Herzegovina</th>\n",
       "      <td>973.533195</td>\n",
       "      <td>1353.989176</td>\n",
       "      <td>1709.683679</td>\n",
       "      <td>2172.352423</td>\n",
       "      <td>2860.169750</td>\n",
       "      <td>3528.481305</td>\n",
       "      <td>4126.613157</td>\n",
       "      <td>4314.114757</td>\n",
       "      <td>2546.781445</td>\n",
       "      <td>4766.355904</td>\n",
       "      <td>6018.975239</td>\n",
       "      <td>7446.298803</td>\n",
       "      <td>6472.765608</td>\n",
       "    </tr>\n",
       "    <tr>\n",
       "      <th>Bulgaria</th>\n",
       "      <td>2444.286648</td>\n",
       "      <td>3008.670727</td>\n",
       "      <td>4254.337839</td>\n",
       "      <td>5577.002800</td>\n",
       "      <td>6597.494398</td>\n",
       "      <td>7612.240438</td>\n",
       "      <td>8224.191647</td>\n",
       "      <td>8239.854824</td>\n",
       "      <td>6302.623438</td>\n",
       "      <td>5970.388760</td>\n",
       "      <td>7696.777725</td>\n",
       "      <td>10680.792820</td>\n",
       "      <td>8236.506172</td>\n",
       "    </tr>\n",
       "  </tbody>\n",
       "</table>\n",
       "</div>"
      ],
      "text/plain": [
       "                        gdpPercap_1952  gdpPercap_1957  gdpPercap_1962  \\\n",
       "country                                                                  \n",
       "Albania                    1601.056136     1942.284244     2312.888958   \n",
       "Austria                    6137.076492     8842.598030    10750.721110   \n",
       "Belgium                    8343.105127     9714.960623    10991.206760   \n",
       "Bosnia and Herzegovina      973.533195     1353.989176     1709.683679   \n",
       "Bulgaria                   2444.286648     3008.670727     4254.337839   \n",
       "\n",
       "                        gdpPercap_1967  gdpPercap_1972  gdpPercap_1977  \\\n",
       "country                                                                  \n",
       "Albania                    2760.196931     3313.422188     3533.003910   \n",
       "Austria                   12834.602400    16661.625600    19749.422300   \n",
       "Belgium                   13149.041190    16672.143560    19117.974480   \n",
       "Bosnia and Herzegovina     2172.352423     2860.169750     3528.481305   \n",
       "Bulgaria                   5577.002800     6597.494398     7612.240438   \n",
       "\n",
       "                        gdpPercap_1982  gdpPercap_1987  gdpPercap_1992  \\\n",
       "country                                                                  \n",
       "Albania                    3630.880722     3738.932735     2497.437901   \n",
       "Austria                   21597.083620    23687.826070    27042.018680   \n",
       "Belgium                   20979.845890    22525.563080    25575.570690   \n",
       "Bosnia and Herzegovina     4126.613157     4314.114757     2546.781445   \n",
       "Bulgaria                   8224.191647     8239.854824     6302.623438   \n",
       "\n",
       "                        gdpPercap_1997  gdpPercap_2002  gdpPercap_2007  \\\n",
       "country                                                                  \n",
       "Albania                    3193.054604     4604.211737     5937.029526   \n",
       "Austria                   29095.920660    32417.607690    36126.492700   \n",
       "Belgium                   27561.196630    30485.883750    33692.605080   \n",
       "Bosnia and Herzegovina     4766.355904     6018.975239     7446.298803   \n",
       "Bulgaria                   5970.388760     7696.777725    10680.792820   \n",
       "\n",
       "                          diff_07_52  \n",
       "country                               \n",
       "Albania                  4335.973390  \n",
       "Austria                 29989.416208  \n",
       "Belgium                 25349.499953  \n",
       "Bosnia and Herzegovina   6472.765608  \n",
       "Bulgaria                 8236.506172  "
      ]
     },
     "execution_count": 185,
     "metadata": {},
     "output_type": "execute_result"
    }
   ],
   "source": [
    "# Create a new column diff_07_52 that is the difference between gdp per capita from 1952 to 2007\n",
    "df[\"diff_07_52\"] = df[\"gdpPercap_2007\"] - df[\"gdpPercap_1952\"]\n",
    "df.head()"
   ]
  },
  {
   "cell_type": "markdown",
   "metadata": {},
   "source": [
    "# Exercises\n",
    "\n",
    "> ## Selection of Individual Values\n",
    ">\n",
    "> Assume Pandas has been imported into your notebook and the Gapminder GDP data for Europe has been loaded:\n",
    ">\n",
    "> ~~~\n",
    "> import pandas\n",
    ">\n",
    "> df = pandas.read_csv('data/gapminder_gdp_europe.csv', index_col='country')\n",
    "> ~~~\n",
    ">\n",
    "> Write an expression to find the Per Capita GDP of Serbia in 2007.\n",
    "\n",
    ">> ### Solution:\n",
    ">>The selection can be done by using the labels for both the row (“Serbia”) and the column (“gdpPercap_2007”):\n",
    "\n",
    ">>`print(df.loc['Serbia', 'gdpPercap_2007'])`\n",
    "\n",
    ">>The output is\n",
    "\n",
    ">>`9786.534714`"
   ]
  },
  {
   "cell_type": "markdown",
   "metadata": {},
   "source": [
    "> ## Extent of Slicing\n",
    ">\n",
    "> 1.  Do the two statements below produce the same output?\n",
    "> 2.  Based on this,what rule governs what is included (or not) in numerical slices and named slices in Pandas?\n",
    ">\n",
    "> ~~~\n",
    "> print(df.iloc[0:2, 0:2])\n",
    "> print(df.loc['Albania':'Belgium', 'gdpPercap_1952':'gdpPercap_1962'])\n",
    "> ~~~\n",
    "> \n",
    ">>### Solution\n",
    ">> No, they do not produce the same output! The output of the first statement is:\n",
    "\n",
    ">>        gdpPercap_1952  gdpPercap_1957\n",
    ">>country                                \n",
    ">>Albania     1601.056136     1942.284244\n",
    ">>Austria     6137.076492     8842.598030\n",
    "\n",
    ">>The second statement gives:\n",
    "~~~\n",
    ">>           gdpPercap_1952  gdpPercap_1957  gdpPercap_1962 \\\n",
    ">>country                                                \n",
    ">>Albania     1601.056136     1942.284244     2312.888958\n",
    ">>Austria     6137.076492     8842.598030    10750.721110\n",
    ">>Belgium     8343.105127     9714.960623    10991.206760\n",
    "~~~\n",
    ">>Clearly, the second statement produces an additional column compared to the first statement. What conclusion can we draw? We see that a numerical slice, 0:2, omits the final index (i.e. index 2) in the range provided, while a named slice, ‘gdpPercap_1952’:’gdpPercap_1962’, includes the final element"
   ]
  },
  {
   "cell_type": "markdown",
   "metadata": {},
   "source": [
    "> ## Reconstructing Data\n",
    ">\n",
    "> Explain what each line in the following short program does:\n",
    "> what is in `first`, `second`, etc.?\n",
    ">\n",
    "> ~~~\n",
    "> first = pandas.read_csv('data/gapminder_gdp_all.csv', index_col='country')\n",
    "> second = df[df['continent'] == 'Americas']\n",
    "> third = second.drop('Puerto Rico')\n",
    "> fourth = third.drop('continent', axis = 1)\n",
    "> fourth.to_csv('result.csv')\n",
    "> ~~~\n",
    "\n",
    ">>### Solution\n",
    ">>Let’s go through this piece of code line by line.\n",
    ">>\n",
    ">>`first = pandas.read_csv('data/gapminder_all.csv', index_col='country')`\n",
    ">>\n",
    ">>This line loads the dataset containing the GDP data from all countries into a dataframe called first. The index_col='country' parameter selects which column to use as the row labels in the dataframe.\n",
    ">>\n",
    ">>`second = first[first['continent'] == 'Americas']`\n",
    ">>\n",
    ">>This line makes a selection: only those rows of first for which the ‘continent’ column matches ‘Americas’ are extracted. Notice how the Boolean expression inside the brackets, first['continent'] == 'Americas', is used to select only those rows where the expression is true. Try printing this expression! Can you print also its individual True/False elements? (hint: first assign the expression to a variable)\n",
    ">>\n",
    ">>`third = second.drop('Puerto Rico')`\n",
    ">>\n",
    ">>As the syntax suggests, this line drops the row from second where the label is ‘Puerto Rico’. The resulting dataframe third has one row less than the original dataframe second.\n",
    ">>\n",
    ">>`fourth = third.drop('continent', axis = 1)`\n",
    ">>\n",
    ">>Again we apply the drop function, but in this case we are dropping not a row but a whole column. To accomplish this, we need to specify also the axis parameter (we want to drop the second column which has index 1).\n",
    ">>\n",
    ">>`fourth.to_csv('result.csv')`\n",
    ">>\n",
    ">>The final step is to write the data that we have been working on to a csv file. Pandas makes this easy with the to_csv() function. The only required argument to the function is the filename. Note that the file will be written in the directory from which you started the Jupyter or Python session."
   ]
  },
  {
   "cell_type": "markdown",
   "metadata": {},
   "source": [
    "> ## Selecting Indices\n",
    ">\n",
    "> Explain in simple terms what `idxmin` and `idxmax` do in the short program below.\n",
    "> When would you use these methods?\n",
    ">\n",
    "> ~~~\n",
    "> df = pandas.load_csv('data/gapminder_gdp_europe.csv', index_col='country')\n",
    "> print(df.idxmin())\n",
    "> print(df.idxmax())\n",
    "> ~~~\n",
    ">> ### Solution\n",
    ">> For each column in data, idxmin will return the index value corresponding to each column’s minimum; idxmax will do accordingly the same for each column’s maximum value."
   ]
  },
  {
   "cell_type": "markdown",
   "metadata": {},
   "source": [
    "> ## Practice with Selection.\n",
    ">\n",
    "> Assume Pandas has been imported and the Gapminder GDP data for Europe has been loaded.\n",
    "> Write an expression to select each of the following:\n",
    ">\n",
    "> 1.  GDP per capita for all countries in 1982.\n",
    "> 2.  GDP per capita for Denmark for all years.\n",
    "> 3.  GDP per capita for all countries for years *after* 1985.\n",
    "> 4.  GDP per capita for each country in 2007 as a multiple of \n",
    ">     GDP per capita for that country in 1952.\n",
    "\n",
    ">>### Solution\n",
    ">>1: `df['gdpPercap_1982']`\n",
    ">>\n",
    ">>2: `df.loc['Denmark',:]`\n",
    ">>\n",
    ">>3: `df.loc[:,'gdpPercap_1985':]`\n",
    ">>\n",
    ">>4: `df['gdpPercap_2007']/data['gdpPercap_1952']`\n",
    ">>\n",
    "\n",
    ">> ## Interpretation\n",
    ">>\n",
    ">> Poland's borders have been stable since 1945, but changed several times in the years before then. How would you handle this if you were creating a table of GDP per capita for Poland for the entire Twentieth Century?"
   ]
  },
  {
   "cell_type": "markdown",
   "metadata": {},
   "source": [
    "---\n",
    "## Keypoints:\n",
    " - \"Use `DataFrame.iloc[..., ...]` to select values by index location.\"\n",
    " - \"Use `:` on its own to mean all columns or all rows.\"\n",
    " - \"Select multiple columns or rows using `DataFrame.ix` and a named slice.\"\n",
    " - \"Result of slicing can be used in further operations.\"\n",
    " - \"Use comparisons to select data based on value.\"\n",
    " - \"Select values or NaN using a Boolean mask.\""
   ]
  }
 ],
 "metadata": {
  "kernelspec": {
   "display_name": "Python 3",
   "language": "python",
   "name": "python3"
  },
  "language_info": {
   "codemirror_mode": {
    "name": "ipython",
    "version": 3
   },
   "file_extension": ".py",
   "mimetype": "text/x-python",
   "name": "python",
   "nbconvert_exporter": "python",
   "pygments_lexer": "ipython3",
   "version": "3.6.1"
  }
 },
 "nbformat": 4,
 "nbformat_minor": 2
}
