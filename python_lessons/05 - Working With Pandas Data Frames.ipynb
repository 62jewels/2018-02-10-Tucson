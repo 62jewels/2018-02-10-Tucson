{
 "cells": [
  {
   "cell_type": "markdown",
   "metadata": {},
   "source": [
    "# Working With Pandas Data Frames\n",
    "---"
   ]
  },
  {
   "cell_type": "code",
   "execution_count": 30,
   "metadata": {
    "collapsed": true
   },
   "outputs": [],
   "source": [
    "# Import the pandas library and read in the csv of the gapmindre data for europe as a data frame.\n",
    "# Be sure to use the \"country\" series as the index column.\n",
    "import pandas as pd\n",
    "df = pd.read_csv('../data/gapminder_gdp_europe.csv', index_col='country')"
   ]
  },
  {
   "cell_type": "code",
   "execution_count": null,
   "metadata": {
    "collapsed": true
   },
   "outputs": [],
   "source": []
  },
  {
   "cell_type": "markdown",
   "metadata": {},
   "source": [
    "* print the data frame to view it"
   ]
  },
  {
   "cell_type": "code",
   "execution_count": null,
   "metadata": {
    "collapsed": true
   },
   "outputs": [],
   "source": []
  },
  {
   "cell_type": "markdown",
   "metadata": {},
   "source": [
    "## Inspecting Data\n",
    "We've already see how we can get information about a dataframe using the `.info()` and `.describe()` functions, but there are many ways to get information and view a data frame"
   ]
  },
  {
   "cell_type": "markdown",
   "metadata": {},
   "source": [
    "* Can also use describe() on data frame selections (like a single column)"
   ]
  },
  {
   "cell_type": "code",
   "execution_count": 2,
   "metadata": {},
   "outputs": [
    {
     "name": "stdout",
     "output_type": "stream",
     "text": [
      "count       30.000000\n",
      "mean     15617.896551\n",
      "std       6453.234827\n",
      "min       3630.880722\n",
      "25%      11449.870115\n",
      "50%      15322.824720\n",
      "75%      20901.729730\n",
      "max      28397.715120\n",
      "Name: gdpPercap_1982, dtype: float64\n"
     ]
    }
   ],
   "source": [
    "# Use the .describe() function on the \n",
    "print( df[\"gdpPercap_1982\"].describe() )"
   ]
  },
  {
   "cell_type": "markdown",
   "metadata": {},
   "source": [
    "* We can print the first or last x number of rows of our data frame using the head() and tails() functions."
   ]
  },
  {
   "cell_type": "code",
   "execution_count": 3,
   "metadata": {},
   "outputs": [
    {
     "name": "stdout",
     "output_type": "stream",
     "text": [
      "         gdpPercap_1952  gdpPercap_1957  gdpPercap_1962  gdpPercap_1967  \\\n",
      "country                                                                   \n",
      "Albania     1601.056136     1942.284244     2312.888958     2760.196931   \n",
      "Austria     6137.076492     8842.598030    10750.721110    12834.602400   \n",
      "Belgium     8343.105127     9714.960623    10991.206760    13149.041190   \n",
      "\n",
      "         gdpPercap_1972  gdpPercap_1977  gdpPercap_1982  gdpPercap_1987  \\\n",
      "country                                                                   \n",
      "Albania     3313.422188      3533.00391     3630.880722     3738.932735   \n",
      "Austria    16661.625600     19749.42230    21597.083620    23687.826070   \n",
      "Belgium    16672.143560     19117.97448    20979.845890    22525.563080   \n",
      "\n",
      "         gdpPercap_1992  gdpPercap_1997  gdpPercap_2002  gdpPercap_2007  \n",
      "country                                                                  \n",
      "Albania     2497.437901     3193.054604     4604.211737     5937.029526  \n",
      "Austria    27042.018680    29095.920660    32417.607690    36126.492700  \n",
      "Belgium    25575.570690    27561.196630    30485.883750    33692.605080  \n"
     ]
    }
   ],
   "source": [
    "print(df.head(3))"
   ]
  },
  {
   "cell_type": "code",
   "execution_count": 4,
   "metadata": {},
   "outputs": [
    {
     "name": "stdout",
     "output_type": "stream",
     "text": [
      "                gdpPercap_1952  gdpPercap_1957  gdpPercap_1962  \\\n",
      "country                                                          \n",
      "Switzerland       14734.232750    17909.489730    20431.092700   \n",
      "Turkey             1969.100980     2218.754257     2322.869908   \n",
      "United Kingdom     9979.508487    11283.177950    12477.177070   \n",
      "\n",
      "                gdpPercap_1967  gdpPercap_1972  gdpPercap_1977  \\\n",
      "country                                                          \n",
      "Switzerland       22966.144320     27195.11304    26982.290520   \n",
      "Turkey             2826.356387      3450.69638     4269.122326   \n",
      "United Kingdom    14142.850890     15895.11641    17428.748460   \n",
      "\n",
      "                gdpPercap_1982  gdpPercap_1987  gdpPercap_1992  \\\n",
      "country                                                          \n",
      "Switzerland       28397.715120    30281.704590    31871.530300   \n",
      "Turkey             4241.356344     5089.043686     5678.348271   \n",
      "United Kingdom    18232.424520    21664.787670    22705.092540   \n",
      "\n",
      "                gdpPercap_1997  gdpPercap_2002  gdpPercap_2007  \n",
      "country                                                         \n",
      "Switzerland       32135.323010    34480.957710    37506.419070  \n",
      "Turkey             6601.429915     6508.085718     8458.276384  \n",
      "United Kingdom    26074.531360    29478.999190    33203.261280  \n"
     ]
    }
   ],
   "source": [
    "print(df.tail(3))"
   ]
  },
  {
   "cell_type": "code",
   "execution_count": 5,
   "metadata": {},
   "outputs": [
    {
     "name": "stdout",
     "output_type": "stream",
     "text": [
      "gdpPercap_1952    float64\n",
      "gdpPercap_1957    float64\n",
      "gdpPercap_1962    float64\n",
      "gdpPercap_1967    float64\n",
      "gdpPercap_1972    float64\n",
      "gdpPercap_1977    float64\n",
      "gdpPercap_1982    float64\n",
      "gdpPercap_1987    float64\n",
      "gdpPercap_1992    float64\n",
      "gdpPercap_1997    float64\n",
      "gdpPercap_2002    float64\n",
      "gdpPercap_2007    float64\n",
      "dtype: object\n"
     ]
    }
   ],
   "source": [
    "print(df.dtypes)"
   ]
  },
  {
   "cell_type": "markdown",
   "metadata": {},
   "source": [
    "* Use `shape` to get the row and column numbers"
   ]
  },
  {
   "cell_type": "code",
   "execution_count": 6,
   "metadata": {},
   "outputs": [
    {
     "name": "stdout",
     "output_type": "stream",
     "text": [
      "(30, 12)\n"
     ]
    }
   ],
   "source": [
    "print(df.shape)"
   ]
  },
  {
   "cell_type": "markdown",
   "metadata": {},
   "source": [
    "Here we can see the that the data have 30 rows of data and 12 attributes worth of information.\n",
    "\n",
    "* Use the `len()` function to get numbers of each individually"
   ]
  },
  {
   "cell_type": "code",
   "execution_count": 7,
   "metadata": {},
   "outputs": [
    {
     "name": "stdout",
     "output_type": "stream",
     "text": [
      "30\n"
     ]
    }
   ],
   "source": [
    "# print number of rows of data\n",
    "print(len(df))"
   ]
  },
  {
   "cell_type": "code",
   "execution_count": 8,
   "metadata": {},
   "outputs": [
    {
     "name": "stdout",
     "output_type": "stream",
     "text": [
      "12\n"
     ]
    }
   ],
   "source": [
    "# print number of columns of data\n",
    "print(len(df.columns))"
   ]
  },
  {
   "cell_type": "markdown",
   "metadata": {},
   "source": [
    "* Use a column name to get all values for that column"
   ]
  },
  {
   "cell_type": "code",
   "execution_count": 31,
   "metadata": {
    "collapsed": true
   },
   "outputs": [],
   "source": [
    "# Print out only the gdpPercap_1962 column from the data frame\n"
   ]
  },
  {
   "cell_type": "markdown",
   "metadata": {},
   "source": [
    "---\n",
    "## EXERCISE:\n",
    "1. How many countries are there in the gapminder_all.csv file?\n",
    "\n",
    "---"
   ]
  },
  {
   "cell_type": "code",
   "execution_count": null,
   "metadata": {
    "collapsed": true
   },
   "outputs": [],
   "source": []
  },
  {
   "cell_type": "markdown",
   "metadata": {},
   "source": [
    "---\n",
    "## EXERCISE:\n",
    "1. What is the last country listed in the gapminder_all file?\n",
    "\n",
    "---"
   ]
  },
  {
   "cell_type": "code",
   "execution_count": null,
   "metadata": {
    "collapsed": true
   },
   "outputs": [],
   "source": []
  },
  {
   "cell_type": "markdown",
   "metadata": {},
   "source": [
    "---\n",
    "## Get information about a particular column\n",
    "\n",
    "* Operations like mean, max, min, can be used on individual columns"
   ]
  },
  {
   "cell_type": "code",
   "execution_count": 32,
   "metadata": {},
   "outputs": [],
   "source": [
    "# Print the mean GDP in 1967 below\n",
    "\n",
    "# Print the Mean GDP in 1972 below\n",
    "\n",
    "# Print the Mean GDP in 1977 below\n"
   ]
  },
  {
   "cell_type": "markdown",
   "metadata": {},
   "source": [
    "---\n",
    "## EXERCISE:\n",
    "1. What is the average (mean) GDP value for all countries in 1992?\n",
    "2. What about the max value for all countries in 1952?\n",
    "\n",
    "\n",
    "---"
   ]
  },
  {
   "cell_type": "markdown",
   "metadata": {},
   "source": [
    "## Rearange Columns\n",
    "\n",
    "* Difficult to do using a csv library or by hand\n",
    "* The reverse() function will reverse the ordering of a list\n",
    "     * E.g.   `['a', 'b', 'c']` to `['c', 'b', 'a']`"
   ]
  },
  {
   "cell_type": "code",
   "execution_count": 34,
   "metadata": {},
   "outputs": [
    {
     "name": "stdout",
     "output_type": "stream",
     "text": [
      "Index(['gdpPercap_1952', 'gdpPercap_1957', 'gdpPercap_1962', 'gdpPercap_1967',\n",
      "       'gdpPercap_1972', 'gdpPercap_1977', 'gdpPercap_1982', 'gdpPercap_1987',\n",
      "       'gdpPercap_1992', 'gdpPercap_1997', 'gdpPercap_2002', 'gdpPercap_2007'],\n",
      "      dtype='object')\n"
     ]
    },
    {
     "ename": "AttributeError",
     "evalue": "'Index' object has no attribute 'reverse'",
     "output_type": "error",
     "traceback": [
      "\u001b[1;31m---------------------------------------------------------------------------\u001b[0m",
      "\u001b[1;31mAttributeError\u001b[0m                            Traceback (most recent call last)",
      "\u001b[1;32m<ipython-input-34-bcdc1a9d9ed2>\u001b[0m in \u001b[0;36m<module>\u001b[1;34m()\u001b[0m\n\u001b[0;32m      2\u001b[0m \u001b[0mprint\u001b[0m\u001b[1;33m(\u001b[0m \u001b[0mcols\u001b[0m \u001b[1;33m)\u001b[0m\u001b[1;33m\u001b[0m\u001b[0m\n\u001b[0;32m      3\u001b[0m \u001b[1;33m\u001b[0m\u001b[0m\n\u001b[1;32m----> 4\u001b[1;33m \u001b[0mcols\u001b[0m\u001b[1;33m.\u001b[0m\u001b[0mreverse\u001b[0m\u001b[1;33m(\u001b[0m\u001b[1;33m)\u001b[0m\u001b[1;33m\u001b[0m\u001b[0m\n\u001b[0m\u001b[0;32m      5\u001b[0m \u001b[0mprint\u001b[0m \u001b[1;33m(\u001b[0m \u001b[0mcols\u001b[0m \u001b[1;33m)\u001b[0m\u001b[1;33m\u001b[0m\u001b[0m\n",
      "\u001b[1;31mAttributeError\u001b[0m: 'Index' object has no attribute 'reverse'"
     ]
    }
   ],
   "source": [
    "# Use python list() function to get the data frame columns a s list\n",
    "cols = \n",
    "print( cols )\n",
    "\n",
    "# use the .reverse() function to reverse the ordering of the columns\n",
    "\n",
    "print ( cols )"
   ]
  },
  {
   "cell_type": "markdown",
   "metadata": {},
   "source": [
    "* Using that now reversed list above, we can create a new list, with the values order in reverse"
   ]
  },
  {
   "cell_type": "code",
   "execution_count": 12,
   "metadata": {},
   "outputs": [
    {
     "data": {
      "text/html": [
       "<div>\n",
       "<style>\n",
       "    .dataframe thead tr:only-child th {\n",
       "        text-align: right;\n",
       "    }\n",
       "\n",
       "    .dataframe thead th {\n",
       "        text-align: left;\n",
       "    }\n",
       "\n",
       "    .dataframe tbody tr th {\n",
       "        vertical-align: top;\n",
       "    }\n",
       "</style>\n",
       "<table border=\"1\" class=\"dataframe\">\n",
       "  <thead>\n",
       "    <tr style=\"text-align: right;\">\n",
       "      <th></th>\n",
       "      <th>gdpPercap_2007</th>\n",
       "      <th>gdpPercap_2002</th>\n",
       "      <th>gdpPercap_1997</th>\n",
       "      <th>gdpPercap_1992</th>\n",
       "      <th>gdpPercap_1987</th>\n",
       "      <th>gdpPercap_1982</th>\n",
       "      <th>gdpPercap_1977</th>\n",
       "      <th>gdpPercap_1972</th>\n",
       "      <th>gdpPercap_1967</th>\n",
       "      <th>gdpPercap_1962</th>\n",
       "      <th>gdpPercap_1957</th>\n",
       "      <th>gdpPercap_1952</th>\n",
       "    </tr>\n",
       "    <tr>\n",
       "      <th>country</th>\n",
       "      <th></th>\n",
       "      <th></th>\n",
       "      <th></th>\n",
       "      <th></th>\n",
       "      <th></th>\n",
       "      <th></th>\n",
       "      <th></th>\n",
       "      <th></th>\n",
       "      <th></th>\n",
       "      <th></th>\n",
       "      <th></th>\n",
       "      <th></th>\n",
       "    </tr>\n",
       "  </thead>\n",
       "  <tbody>\n",
       "    <tr>\n",
       "      <th>Albania</th>\n",
       "      <td>5937.029526</td>\n",
       "      <td>4604.211737</td>\n",
       "      <td>3193.054604</td>\n",
       "      <td>2497.437901</td>\n",
       "      <td>3738.932735</td>\n",
       "      <td>3630.880722</td>\n",
       "      <td>3533.00391</td>\n",
       "      <td>3313.422188</td>\n",
       "      <td>2760.196931</td>\n",
       "      <td>2312.888958</td>\n",
       "      <td>1942.284244</td>\n",
       "      <td>1601.056136</td>\n",
       "    </tr>\n",
       "    <tr>\n",
       "      <th>Austria</th>\n",
       "      <td>36126.492700</td>\n",
       "      <td>32417.607690</td>\n",
       "      <td>29095.920660</td>\n",
       "      <td>27042.018680</td>\n",
       "      <td>23687.826070</td>\n",
       "      <td>21597.083620</td>\n",
       "      <td>19749.42230</td>\n",
       "      <td>16661.625600</td>\n",
       "      <td>12834.602400</td>\n",
       "      <td>10750.721110</td>\n",
       "      <td>8842.598030</td>\n",
       "      <td>6137.076492</td>\n",
       "    </tr>\n",
       "    <tr>\n",
       "      <th>Belgium</th>\n",
       "      <td>33692.605080</td>\n",
       "      <td>30485.883750</td>\n",
       "      <td>27561.196630</td>\n",
       "      <td>25575.570690</td>\n",
       "      <td>22525.563080</td>\n",
       "      <td>20979.845890</td>\n",
       "      <td>19117.97448</td>\n",
       "      <td>16672.143560</td>\n",
       "      <td>13149.041190</td>\n",
       "      <td>10991.206760</td>\n",
       "      <td>9714.960623</td>\n",
       "      <td>8343.105127</td>\n",
       "    </tr>\n",
       "  </tbody>\n",
       "</table>\n",
       "</div>"
      ],
      "text/plain": [
       "         gdpPercap_2007  gdpPercap_2002  gdpPercap_1997  gdpPercap_1992  \\\n",
       "country                                                                   \n",
       "Albania     5937.029526     4604.211737     3193.054604     2497.437901   \n",
       "Austria    36126.492700    32417.607690    29095.920660    27042.018680   \n",
       "Belgium    33692.605080    30485.883750    27561.196630    25575.570690   \n",
       "\n",
       "         gdpPercap_1987  gdpPercap_1982  gdpPercap_1977  gdpPercap_1972  \\\n",
       "country                                                                   \n",
       "Albania     3738.932735     3630.880722      3533.00391     3313.422188   \n",
       "Austria    23687.826070    21597.083620     19749.42230    16661.625600   \n",
       "Belgium    22525.563080    20979.845890     19117.97448    16672.143560   \n",
       "\n",
       "         gdpPercap_1967  gdpPercap_1962  gdpPercap_1957  gdpPercap_1952  \n",
       "country                                                                  \n",
       "Albania     2760.196931     2312.888958     1942.284244     1601.056136  \n",
       "Austria    12834.602400    10750.721110     8842.598030     6137.076492  \n",
       "Belgium    13149.041190    10991.206760     9714.960623     8343.105127  "
      ]
     },
     "execution_count": 12,
     "metadata": {},
     "output_type": "execute_result"
    }
   ],
   "source": [
    "new_df = \n",
    "new_df.head(3)"
   ]
  },
  {
   "cell_type": "markdown",
   "metadata": {},
   "source": [
    "## Transposing tables\n",
    "\n",
    "In many cases we may need to transpose the column and rows in a table.  Pandas allows us to to this easily with the `T` command.\n"
   ]
  },
  {
   "cell_type": "code",
   "execution_count": 13,
   "metadata": {},
   "outputs": [
    {
     "name": "stdout",
     "output_type": "stream",
     "text": [
      "Data Frame:\n",
      "          gdpPercap_1952  gdpPercap_1957  gdpPercap_1962  gdpPercap_1967  \\\n",
      "country                                                                   \n",
      "Albania     1601.056136     1942.284244     2312.888958     2760.196931   \n",
      "Austria     6137.076492     8842.598030    10750.721110    12834.602400   \n",
      "Belgium     8343.105127     9714.960623    10991.206760    13149.041190   \n",
      "\n",
      "         gdpPercap_1972  gdpPercap_1977  gdpPercap_1982  gdpPercap_1987  \\\n",
      "country                                                                   \n",
      "Albania     3313.422188      3533.00391     3630.880722     3738.932735   \n",
      "Austria    16661.625600     19749.42230    21597.083620    23687.826070   \n",
      "Belgium    16672.143560     19117.97448    20979.845890    22525.563080   \n",
      "\n",
      "         gdpPercap_1992  gdpPercap_1997  gdpPercap_2002  gdpPercap_2007  \n",
      "country                                                                  \n",
      "Albania     2497.437901     3193.054604     4604.211737     5937.029526  \n",
      "Austria    27042.018680    29095.920660    32417.607690    36126.492700  \n",
      "Belgium    25575.570690    27561.196630    30485.883750    33692.605080  \n",
      "\n",
      "\n",
      "Transposed:\n",
      " country             Albania       Austria       Belgium  \\\n",
      "gdpPercap_1952  1601.056136   6137.076492   8343.105127   \n",
      "gdpPercap_1957  1942.284244   8842.598030   9714.960623   \n",
      "gdpPercap_1962  2312.888958  10750.721110  10991.206760   \n",
      "\n",
      "country         Bosnia and Herzegovina     Bulgaria      Croatia  \\\n",
      "gdpPercap_1952              973.533195  2444.286648  3119.236520   \n",
      "gdpPercap_1957             1353.989176  3008.670727  4338.231617   \n",
      "gdpPercap_1962             1709.683679  4254.337839  5477.890018   \n",
      "\n",
      "country         Czech Republic       Denmark      Finland        France  \\\n",
      "gdpPercap_1952     6876.140250   9692.385245  6424.519071   7029.809327   \n",
      "gdpPercap_1957     8256.343918  11099.659350  7545.415386   8662.834898   \n",
      "gdpPercap_1962    10136.867130  13583.313510  9371.842561  10560.485530   \n",
      "\n",
      "country              ...           Portugal      Romania       Serbia  \\\n",
      "gdpPercap_1952       ...        3068.319867  3144.613186  3581.459448   \n",
      "gdpPercap_1957       ...        3774.571743  3943.370225  4981.090891   \n",
      "gdpPercap_1962       ...        4727.954889  4734.997586  6289.629157   \n",
      "\n",
      "country         Slovak Republic     Slovenia        Spain        Sweden  \\\n",
      "gdpPercap_1952      5074.659104  4215.041741  3834.034742   8527.844662   \n",
      "gdpPercap_1957      6093.262980  5862.276629  4564.802410   9911.878226   \n",
      "gdpPercap_1962      7481.107598  7402.303395  5693.843879  12329.441920   \n",
      "\n",
      "country         Switzerland       Turkey  United Kingdom  \n",
      "gdpPercap_1952  14734.23275  1969.100980     9979.508487  \n",
      "gdpPercap_1957  17909.48973  2218.754257    11283.177950  \n",
      "gdpPercap_1962  20431.09270  2322.869908    12477.177070  \n",
      "\n",
      "[3 rows x 30 columns]\n"
     ]
    }
   ],
   "source": [
    "# Print first three rows of the data frame\n",
    "\n",
    "# Transpose the dataframe and print the first three rows\n"
   ]
  },
  {
   "cell_type": "markdown",
   "metadata": {},
   "source": [
    "---\n",
    "## EXERCISE:\n",
    "1. Read in a new data frame for the gapminder_gdp_americas.csv file\n",
    "2. Print the last last three columns of the data frame\n",
    "\n",
    "---"
   ]
  },
  {
   "cell_type": "markdown",
   "metadata": {},
   "source": [
    "## Selecting values\n",
    "\n",
    "Data Frames provides a index as a way to identify the rows of the table. A row also has a position inside the table as well as a label, which uniquely identifies its entry in the DataFrame.\n",
    "\n",
    "To access a value at the position [ i , j ] (row, column) of a Data Frame, we have two options, depending on what is the meaning of i in use."
   ]
  },
  {
   "cell_type": "markdown",
   "metadata": {},
   "source": [
    "### Use DataFrame.iloc[..., ...] to select values by their position\n",
    "* Allows you to specify location by numerical index similar to 2D version of character selection in strings.\n"
   ]
  },
  {
   "cell_type": "code",
   "execution_count": 14,
   "metadata": {},
   "outputs": [
    {
     "name": "stdout",
     "output_type": "stream",
     "text": [
      "\n",
      "Data value in first row at first column:  1601.056136\n"
     ]
    }
   ],
   "source": [
    "print(\"\\nData value in first row at first column: \", df.iloc[0, 0])"
   ]
  },
  {
   "cell_type": "code",
   "execution_count": 15,
   "metadata": {},
   "outputs": [
    {
     "name": "stdout",
     "output_type": "stream",
     "text": [
      "\n",
      "Data value in fifth row at third column:  4254.337839\n"
     ]
    }
   ],
   "source": [
    "print(\"\\nData value in fifth row at third column: \", df.iloc[4, 2])"
   ]
  },
  {
   "cell_type": "markdown",
   "metadata": {},
   "source": [
    "### Use `DataFrame.loc[..., ...]` to select values by their (entry) label.\n",
    "\n",
    "*   Can specify location by name or by numerical index."
   ]
  },
  {
   "cell_type": "code",
   "execution_count": 16,
   "metadata": {},
   "outputs": [
    {
     "name": "stdout",
     "output_type": "stream",
     "text": [
      "1601.056136\n"
     ]
    }
   ],
   "source": [
    "# Print the value of Albanias GDP per capita in 1952\n"
   ]
  },
  {
   "cell_type": "code",
   "execution_count": 17,
   "metadata": {},
   "outputs": [
    {
     "name": "stdout",
     "output_type": "stream",
     "text": [
      "4254.337839\n"
     ]
    }
   ],
   "source": [
    "# Print the value of Bulgarias GDP per capita in 1962\n"
   ]
  },
  {
   "cell_type": "markdown",
   "metadata": {},
   "source": [
    "---\n",
    "## EXERCISE\n",
    "~~~\n",
    "import pandas\n",
    "df = pandas.read_csv('data/gapminder_gdp_europe.csv', index_col='country')\n",
    "~~~\n",
    "\n",
    "1. Find the Per Capita GDPs for Serbia (Serbia is in the Europe CSV data file).\n",
    "1. Find the Per Capita GDP for Serbia in 2007."
   ]
  },
  {
   "cell_type": "code",
   "execution_count": null,
   "metadata": {
    "collapsed": true
   },
   "outputs": [],
   "source": []
  },
  {
   "cell_type": "markdown",
   "metadata": {},
   "source": [
    "---\n",
    "### Use `:` on its own to mean all columns or all rows.\n",
    "\n",
    "*   Just like Python's usual slicing notation, we can print all columns or all rows with `.loc` using the `:`"
   ]
  },
  {
   "cell_type": "code",
   "execution_count": 36,
   "metadata": {},
   "outputs": [],
   "source": [
    "# Print the GDP per capita of all years for Albania\n"
   ]
  },
  {
   "cell_type": "markdown",
   "metadata": {},
   "source": [
    "* Would get the same result printing `df.iloc[0]` (without a second index).\n",
    "* We can also omit the `:` and get the same result in either case.\n",
    "    * e.g. `df.loc[\"Albania\"]`"
   ]
  },
  {
   "cell_type": "code",
   "execution_count": 35,
   "metadata": {},
   "outputs": [],
   "source": [
    "# Print the GDP per capita for all countries in 1952\n"
   ]
  },
  {
   "cell_type": "markdown",
   "metadata": {},
   "source": [
    "*   Would get the same result printing `df[\"gdpPercap_1952\"]`\n",
    "*   Also get the same result printing `df.gdpPercap_1952` (since it's a column name)"
   ]
  },
  {
   "cell_type": "markdown",
   "metadata": {},
   "source": [
    "---\n",
    "## EXERCISE:\n",
    "1. Print out GDP per capita for all countries in 1972\n",
    "\n"
   ]
  },
  {
   "cell_type": "code",
   "execution_count": null,
   "metadata": {
    "collapsed": true
   },
   "outputs": [],
   "source": []
  },
  {
   "cell_type": "markdown",
   "metadata": {},
   "source": [
    "---\n",
    "### We can also use the `:` to select whole sections of a table \n",
    "* Similar to the way we would select a section of from a normal python list, we can do the same with data frames."
   ]
  },
  {
   "cell_type": "code",
   "execution_count": 37,
   "metadata": {},
   "outputs": [],
   "source": [
    "# Print a selection of all countries in the table from Italy to Poland from years 1962 to 1972\n"
   ]
  },
  {
   "cell_type": "markdown",
   "metadata": {},
   "source": [
    "Note that in Pandas **slicing using indexes is inclusive at both ends**, which differs from typical python behavior where slicing indicates everything up to but not including the final index."
   ]
  },
  {
   "cell_type": "markdown",
   "metadata": {},
   "source": [
    "### Select multiple columns or rows using `DataFrame.iloc` and a named slice.\n",
    "* We can also make selection from a data frame using the index location of the row or column\n",
    "    * Remember that in programming languages, we start counting at 0"
   ]
  },
  {
   "cell_type": "code",
   "execution_count": 39,
   "metadata": {},
   "outputs": [
    {
     "name": "stdout",
     "output_type": "stream",
     "text": [
      "First row of data frame:\n",
      "\n",
      "\n",
      "\n",
      "Value in the first row of the first column:\n",
      "\n",
      "Values in the first two columes in the first row:\n",
      "\n"
     ]
    }
   ],
   "source": [
    "#Print the first row of the data frame using the .head() function\n",
    "print(\"First row of data frame:\\n\",  )\n",
    "\n",
    "# Use iloc to print the value in the first row of the first column\n",
    "print(\"\\n\\nValue in the first row of the first column:\\n\",  )\n",
    "\n",
    "# Use iloc to print the values of the first two columns in the first row\n",
    "print(\"Values in the first two columes in the first row:\\n\",  )"
   ]
  },
  {
   "cell_type": "markdown",
   "metadata": {},
   "source": [
    "* **Note that unlike slicing using column or row names, slicing using indexes is not inclusive** "
   ]
  },
  {
   "cell_type": "markdown",
   "metadata": {},
   "source": [
    "---\n",
    "## EXERCISE:\n",
    "1. Print out all values from Hungary through Montenegro for the years 1977 through 1997"
   ]
  },
  {
   "cell_type": "code",
   "execution_count": null,
   "metadata": {
    "collapsed": true
   },
   "outputs": [],
   "source": []
  },
  {
   "cell_type": "markdown",
   "metadata": {},
   "source": [
    "---\n",
    "## EXERCISE:\n",
    "1.  Do the two statements below produce the same output?\n",
    "    ~~~\n",
    "    print(df.iloc[0:2, 0:2])\n",
    "    print(df.loc['Albania':'Belgium', 'gdpPercap_1952':'gdpPercap_1962'])\n",
    "    ~~~\n",
    "\n",
    "1.  Based on this,what rule governs what is included (or not) in numerical slices and named slices in Pandas?\n"
   ]
  },
  {
   "cell_type": "code",
   "execution_count": null,
   "metadata": {
    "collapsed": true
   },
   "outputs": [],
   "source": []
  },
  {
   "cell_type": "markdown",
   "metadata": {},
   "source": [
    "---\n",
    "### Slicing individual rows and columns\n",
    "* Instead of creating slices of *this* to *that* using the `:`, we can also slice using individual rows and columns by placing names or indexes in brackets `[]`."
   ]
  },
  {
   "cell_type": "code",
   "execution_count": 40,
   "metadata": {},
   "outputs": [],
   "source": [
    "# Print out the GDP per capita of only Italy, Austria, and the United Kingdom in the years 2007 and 1957\n"
   ]
  },
  {
   "cell_type": "markdown",
   "metadata": {},
   "source": [
    "---\n",
    "## EXERCISE:\n",
    "1. Using the index locations, `print` out the first, third, and eight columns for the sixteenth through nineteenth rows."
   ]
  },
  {
   "cell_type": "code",
   "execution_count": null,
   "metadata": {
    "collapsed": true
   },
   "outputs": [],
   "source": []
  },
  {
   "cell_type": "markdown",
   "metadata": {},
   "source": [
    "---\n",
    "## Result of slicing can be used in further operations."
   ]
  },
  {
   "cell_type": "code",
   "execution_count": 23,
   "metadata": {},
   "outputs": [
    {
     "name": "stdout",
     "output_type": "stream",
     "text": [
      "gdpPercap_1962    13450.40151\n",
      "gdpPercap_1967    16361.87647\n",
      "gdpPercap_1972    18965.05551\n",
      "dtype: float64\n"
     ]
    }
   ],
   "source": [
    "# Print out the max value (.max()) of ALL countries from Italy to Poland for 1962 to 1972\n"
   ]
  },
  {
   "cell_type": "code",
   "execution_count": 41,
   "metadata": {},
   "outputs": [],
   "source": [
    "# Print out the min value (.min()) of ALL countries from Italy to Poland for 1962 to 1972\n"
   ]
  },
  {
   "cell_type": "markdown",
   "metadata": {},
   "source": [
    "*   Usually don't just print a slice.\n",
    "*   All the statistical operators that work on entire data frames work the same way on slices."
   ]
  },
  {
   "cell_type": "markdown",
   "metadata": {},
   "source": [
    "## Create data frame from selections\n",
    "\n",
    "* We can create new data frame by selecting data frames based on values and assigining it to a variable"
   ]
  },
  {
   "cell_type": "code",
   "execution_count": 42,
   "metadata": {},
   "outputs": [
    {
     "name": "stdout",
     "output_type": "stream",
     "text": [
      "Subset of data:\n",
      "              gdpPercap_1962  gdpPercap_1967  gdpPercap_1972\n",
      "country                                                    \n",
      "Italy           8243.582340    10022.401310    12269.273780\n",
      "Montenegro      4649.593785     5907.850937     7778.414017\n",
      "Netherlands    12790.849560    15363.251360    18794.745670\n",
      "Norway         13450.401510    16361.876470    18965.055510\n",
      "Poland          5338.752143     6557.152776     8006.506993\n"
     ]
    }
   ],
   "source": [
    "# Create a selection of ALL countries from Italy to Poland for 1962 to 1972 and \n",
    "#  assign the selection to a variable name \"subset_df\"\n",
    "\n",
    "print('Subset of data:\\n', subsetdf)"
   ]
  },
  {
   "cell_type": "markdown",
   "metadata": {},
   "source": [
    "## Create DataFrame using query\n",
    "* We can query values in a data frame to create new selections\n",
    "* By passing a dataframe query to itself, we can create a new dataframe with only those values"
   ]
  },
  {
   "cell_type": "code",
   "execution_count": 52,
   "metadata": {},
   "outputs": [
    {
     "name": "stdout",
     "output_type": "stream",
     "text": [
      "country\n",
      "Italy          False\n",
      "Montenegro     False\n",
      "Netherlands     True\n",
      "Norway          True\n",
      "Poland         False\n",
      "Name: gdpPercap_1962, dtype: bool\n"
     ]
    },
    {
     "ename": "NameError",
     "evalue": "name 'subset_10k_df' is not defined",
     "output_type": "error",
     "traceback": [
      "\u001b[1;31m---------------------------------------------------------------------------\u001b[0m",
      "\u001b[1;31mNameError\u001b[0m                                 Traceback (most recent call last)",
      "\u001b[1;32m<ipython-input-52-7c63b6d76e65>\u001b[0m in \u001b[0;36m<module>\u001b[1;34m()\u001b[0m\n\u001b[0;32m      5\u001b[0m \u001b[1;33m\u001b[0m\u001b[0m\n\u001b[0;32m      6\u001b[0m \u001b[0mprint\u001b[0m\u001b[1;33m(\u001b[0m\u001b[0mquery_10k\u001b[0m\u001b[1;33m)\u001b[0m\u001b[1;33m\u001b[0m\u001b[0m\n\u001b[1;32m----> 7\u001b[1;33m \u001b[0mprint\u001b[0m\u001b[1;33m(\u001b[0m\u001b[0msubset_10k_df\u001b[0m\u001b[1;33m)\u001b[0m\u001b[1;33m\u001b[0m\u001b[0m\n\u001b[0m\u001b[0;32m      8\u001b[0m \u001b[0mprint\u001b[0m\u001b[1;33m(\u001b[0m\u001b[0msubset_10k_df\u001b[0m\u001b[1;33m.\u001b[0m\u001b[0mshape\u001b[0m\u001b[1;33m)\u001b[0m\u001b[1;33m\u001b[0m\u001b[0m\n",
      "\u001b[1;31mNameError\u001b[0m: name 'subset_10k_df' is not defined"
     ]
    }
   ],
   "source": [
    "# Create a query for the \"gdpPerCap_1962\" series in out subset_df data frame for all values greater than 10000\n",
    "\n",
    "# Create a new data frame called subset_10k_df by passing that query to the subset_df data frame\n",
    "\n",
    "\n",
    "print(query_10k)\n",
    "print(subset_10k_df)\n",
    "print(subset_10k_df.shape)"
   ]
  },
  {
   "cell_type": "markdown",
   "metadata": {},
   "source": [
    "---\n",
    "## EXERCISE:\n",
    "\n",
    "* Create three data frames and get the size of each one.\n",
    "    1. Countries with a gdp per capita in 1952 above 10000\n",
    "    1. Countries with a gdp per capita in 1962 above 10000\n",
    "    1. Countries with a gdp per capita in 1972 above 10000\n",
    "\n",
    "---"
   ]
  },
  {
   "cell_type": "code",
   "execution_count": null,
   "metadata": {
    "collapsed": true
   },
   "outputs": [],
   "source": []
  },
  {
   "cell_type": "markdown",
   "metadata": {},
   "source": [
    "## Filter a DataFrame using a Boolean mask\n",
    "\n",
    "* A frame full of Booleans is sometimes called a *mask* because of how it can be used\n",
    "* Comparison is applied element by element\n",
    "* Returns a similarly-shaped data frame of `True` and `False`"
   ]
  },
  {
   "cell_type": "code",
   "execution_count": null,
   "metadata": {
    "scrolled": true
   },
   "outputs": [],
   "source": [
    "# Create a full data frame mask for subset_df with a query for all values in all years greater than 10000\n",
    "mask_10k = \n",
    "\n",
    "print( mask_10k )"
   ]
  },
  {
   "cell_type": "markdown",
   "metadata": {},
   "source": [
    "* We can use masks to filter an entire dataframe with a single query\n",
    "    * More efficient than using a single query on multiple columns"
   ]
  },
  {
   "cell_type": "code",
   "execution_count": null,
   "metadata": {},
   "outputs": [],
   "source": [
    "# Pass the mask query to subset_df to create a new data frame mask_subset\n",
    "mask_subset = \n",
    "\n",
    "print(mask_subset)\n",
    "print(\"Shape: \", mask_subset.shape)"
   ]
  },
  {
   "cell_type": "markdown",
   "metadata": {},
   "source": [
    "*   Returns the value where the mask is true, and NaN (Not a Number) where it is false.\n",
    "*   Useful because NaNs are ignored by operations like max, min, average, etc.\n",
    "\n",
    "\n",
    "* If we wanted to remove all rows with a NaN value in any column we could use the `.dropna()` function"
   ]
  },
  {
   "cell_type": "code",
   "execution_count": null,
   "metadata": {},
   "outputs": [],
   "source": [
    "# Print the mask_subset data frame with all rows with a single NaN value removed\n",
    "\n",
    "\n",
    "# Print the shape of the mask_subset data frame with all rows with an NaN values removed\n"
   ]
  },
  {
   "cell_type": "markdown",
   "metadata": {},
   "source": [
    "## Create new columns\n",
    "\n",
    "* We can easily create new columns in the same way we would add a key and value to a dictionary"
   ]
  },
  {
   "cell_type": "code",
   "execution_count": null,
   "metadata": {
    "collapsed": true
   },
   "outputs": [],
   "source": [
    "# Create a new column in data frame called diff_07_52 that is the difference between gdp per capita from 1952 to 2007\n",
    "\n",
    "\n",
    "print(df.head(1))"
   ]
  },
  {
   "cell_type": "markdown",
   "metadata": {},
   "source": [
    "---\n",
    "## EtherPad\n",
    "\n",
    "On EtherPad explain what the follow expression does:\n",
    "\n",
    "    only_Am = df[df['continent'] == 'Americas']\n",
    "\n",
    "___"
   ]
  },
  {
   "cell_type": "markdown",
   "metadata": {},
   "source": [
    "## EXERCISE:\n",
    "1. Explain in simple terms what `idxmin` and `idxmax` do in the short program below.\n",
    "    ~~~\n",
    "    df = pd.read_csv('data/gapminder_gdp_europe.csv', index_col='country')\n",
    "    print(df.idxmin())\n",
    "    print(df.idymax())\n",
    "    ~~~\n",
    "\n",
    "2. When would you use these methods?"
   ]
  },
  {
   "cell_type": "code",
   "execution_count": null,
   "metadata": {
    "collapsed": true
   },
   "outputs": [],
   "source": []
  },
  {
   "cell_type": "markdown",
   "metadata": {},
   "source": [
    "---\n",
    "## PRACTICE EXERCISE.\n",
    "Using the Gapminder GDP data for Europe, write an expression to select each of the following:\n",
    "1.  GDP per capita for all countries in 1982.\n",
    "1.  GDP per capita for Denmark for all years.\n",
    "1.  GDP per capita for all countries for years *after* 1985.\n",
    "1.  GDP per capita for each country in 2007 as a multiple of GDP per capita for that country in 1952.\n",
    "---"
   ]
  },
  {
   "cell_type": "markdown",
   "metadata": {},
   "source": [
    "# -- COMMIT YOUR WORK TO GITHUB --"
   ]
  },
  {
   "cell_type": "markdown",
   "metadata": {},
   "source": [
    "---\n",
    "## Keypoints:\n",
    " - \"Use `DataFrame.iloc[..., ...]` to select values by index location.\"\n",
    " - \"Use `:` on its own to mean all columns or all rows.\"\n",
    " - \"Select multiple columns or rows using `DataFrame.ix` and a named slice.\"\n",
    " - \"Result of slicing can be used in further operations.\"\n",
    " - \"Use comparisons to select data based on value.\"\n",
    " - \"Select values or NaN using a Boolean mask.\""
   ]
  }
 ],
 "metadata": {
  "anaconda-cloud": {},
  "kernelspec": {
   "display_name": "Python 3",
   "language": "python",
   "name": "python3"
  },
  "language_info": {
   "codemirror_mode": {
    "name": "ipython",
    "version": 3
   },
   "file_extension": ".py",
   "mimetype": "text/x-python",
   "name": "python",
   "nbconvert_exporter": "python",
   "pygments_lexer": "ipython3",
   "version": "3.6.1"
  }
 },
 "nbformat": 4,
 "nbformat_minor": 2
}
