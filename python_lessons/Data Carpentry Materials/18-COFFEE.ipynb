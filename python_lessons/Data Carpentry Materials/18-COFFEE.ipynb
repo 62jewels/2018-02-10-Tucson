{
 "cells": [
  {
   "cell_type": "markdown",
   "metadata": {},
   "source": [
    "---\n",
    "layout: break\n",
    "title: \"Afternoon Coffee\"\n",
    "teaching: 0\n",
    "exercises: 0\n",
    "break: 15\n",
    "---\n",
    "FIXME: describe what to reflect on."
   ]
  }
 ],
 "metadata": {
  "kernelspec": {
   "display_name": "Python 3",
   "language": "python",
   "name": "python3"
  },
  "language_info": {
   "codemirror_mode": {
    "name": "ipython",
    "version": 3
   },
   "file_extension": ".py",
   "mimetype": "text/x-python",
   "name": "python",
   "nbconvert_exporter": "python",
   "pygments_lexer": "ipython3",
   "version": "3.6.1"
  }
 },
 "nbformat": 4,
 "nbformat_minor": 2
}
